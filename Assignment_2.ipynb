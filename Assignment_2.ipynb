{
 "cells": [
  {
   "cell_type": "markdown",
   "id": "e97359b5-ae24-417c-ab2e-4803a1f9628c",
   "metadata": {},
   "source": [
    "NumPy Assignment Questions"
   ]
  },
  {
   "cell_type": "markdown",
   "id": "d318f75c-10aa-49fe-8fb4-20f5ae8c8daa",
   "metadata": {},
   "source": [
    "Data Types & Attributes"
   ]
  },
  {
   "cell_type": "markdown",
   "id": "9cfbcc89-02c5-4c76-ad2d-d186c979eacb",
   "metadata": {},
   "source": [
    "1. Create a NumPy array arr of integers from 0 to 5 and print its data type."
   ]
  },
  {
   "cell_type": "code",
   "execution_count": 8,
   "id": "9dd65454-d96d-49ad-9e4b-984f6571d0de",
   "metadata": {},
   "outputs": [
    {
     "name": "stdin",
     "output_type": "stream",
     "text": [
      "Enter integers separated by space (0–5):  0 1 2 3 4 5\n"
     ]
    },
    {
     "name": "stdout",
     "output_type": "stream",
     "text": [
      "int32\n"
     ]
    }
   ],
   "source": [
    "import numpy as np\n",
    "arr1 = np.array(list(map(int, input(\"Enter integers separated by space (0–5): \").split())))\n",
    "print(arr1.dtype) "
   ]
  },
  {
   "cell_type": "markdown",
   "id": "bfdfb1db-d981-4b9c-bc21-45486d834659",
   "metadata": {},
   "source": [
    "2. Given a NumPy array arr, check if its data type is float64."
   ]
  },
  {
   "cell_type": "code",
   "execution_count": 11,
   "id": "e4a18d5e-915b-42cb-952f-56bca8027fda",
   "metadata": {},
   "outputs": [
    {
     "name": "stdin",
     "output_type": "stream",
     "text": [
      "Enter float numbers:  1.1 2.2 3.3\n"
     ]
    },
    {
     "name": "stdout",
     "output_type": "stream",
     "text": [
      "True\n"
     ]
    }
   ],
   "source": [
    "arr2 = np.array(list(map(float, input(\"Enter float numbers: \").split())))\n",
    "print(arr2.dtype == np.float64)"
   ]
  },
  {
   "cell_type": "markdown",
   "id": "26177983-d486-41a1-bced-8300fa9071c8",
   "metadata": {},
   "source": [
    "3. Create a NumPy array arr with a data type of complex128 containing three\n",
    "complex numbers."
   ]
  },
  {
   "cell_type": "code",
   "execution_count": 14,
   "id": "ec6a909d-2739-4c1d-9721-a0db2b40a857",
   "metadata": {},
   "outputs": [
    {
     "name": "stdin",
     "output_type": "stream",
     "text": [
      "Enter 3 complex numbers (e.g., 1+2j 3+4j 5+6j):  1+2j 3+4j 5+6j\n"
     ]
    },
    {
     "name": "stdout",
     "output_type": "stream",
     "text": [
      "[1.+2.j 3.+4.j 5.+6.j]\n",
      "complex128\n"
     ]
    }
   ],
   "source": [
    "arr3 = np.array([complex(x) for x in input(\"Enter 3 complex numbers (e.g., 1+2j 3+4j 5+6j): \").split()], dtype=np.complex128)\n",
    "print(arr3)\n",
    "print(arr3.dtype)"
   ]
  },
  {
   "cell_type": "markdown",
   "id": "7bc5cf09-ae0e-4852-80a0-1c909f6ae28c",
   "metadata": {},
   "source": [
    "4. Convert an existing NumPy array arr of integers to float32 data type."
   ]
  },
  {
   "cell_type": "code",
   "execution_count": 16,
   "id": "d4e5c008-02ff-4141-b9c8-a8bc000bbe16",
   "metadata": {},
   "outputs": [
    {
     "name": "stdin",
     "output_type": "stream",
     "text": [
      "Enter integers:  10 20 30\n"
     ]
    },
    {
     "name": "stdout",
     "output_type": "stream",
     "text": [
      "[10. 20. 30.]\n",
      "float32\n"
     ]
    }
   ],
   "source": [
    "arr4 = np.array(list(map(int, input(\"Enter integers: \").split())))\n",
    "arr4 = arr4.astype(np.float32)\n",
    "print(arr4)\n",
    "print(arr4.dtype)"
   ]
  },
  {
   "cell_type": "markdown",
   "id": "78927df0-b7b1-4449-b26c-7d4f5355db87",
   "metadata": {},
   "source": [
    "5. Given a NumPy array arr with float64 data type, convert it to float32 to reduce\n",
    "decimal precision."
   ]
  },
  {
   "cell_type": "code",
   "execution_count": 22,
   "id": "d2adb99a-1109-4caa-a879-15a00cfade6e",
   "metadata": {},
   "outputs": [
    {
     "name": "stdin",
     "output_type": "stream",
     "text": [
      "Enter float64 numbers:  1.123456789 2.987654321\n"
     ]
    },
    {
     "name": "stdout",
     "output_type": "stream",
     "text": [
      "[1.1234568 2.9876542]\n"
     ]
    }
   ],
   "source": [
    "arr5 = np.array(list(map(float, input(\"Enter float64 numbers: \").split())), dtype=np.float64)\n",
    "arr5 = arr5.astype(np.float32)\n",
    "print(arr5)"
   ]
  },
  {
   "cell_type": "markdown",
   "id": "64e83101-9a49-4a0f-879c-d6122eb1ed17",
   "metadata": {},
   "source": [
    "6. Write a function array_attributes that takes a NumPy array as input and returns\n",
    "its shape, size, and data type."
   ]
  },
  {
   "cell_type": "code",
   "execution_count": 33,
   "id": "d0a51f5b-b5a4-4efc-9d07-70b5543b954a",
   "metadata": {},
   "outputs": [
    {
     "name": "stdin",
     "output_type": "stream",
     "text": [
      "Enter number of rows:  2\n",
      "Enter number of columns:  2\n",
      "Enter 2 integers for row 1:  1 2 \n",
      "Enter 2 integers for row 2:  31 21\n"
     ]
    },
    {
     "name": "stdout",
     "output_type": "stream",
     "text": [
      "((2, 2), 4, dtype('int32'))\n"
     ]
    }
   ],
   "source": [
    "def array_attributes(arr):\n",
    "    return arr.shape, arr.size, arr.dtype\n",
    "r = int(input(\"Enter number of rows: \"))\n",
    "c = int(input(\"Enter number of columns: \"))\n",
    "arr = np.array([list(map(int, input(f\"Enter {c} integers for row {i+1}: \").split())) for i in range(r)])\n",
    "print(array_attributes(arr))"
   ]
  },
  {
   "cell_type": "markdown",
   "id": "1bebe0c7-d52f-4ee5-b97f-6393cecf7183",
   "metadata": {},
   "source": [
    "7. Create a function array_dimension that returns the dimensionality of a NumPy\n",
    "array."
   ]
  },
  {
   "cell_type": "code",
   "execution_count": 35,
   "id": "fca395a0-2b4f-4de7-82b1-15d11b14dfd3",
   "metadata": {},
   "outputs": [
    {
     "name": "stdin",
     "output_type": "stream",
     "text": [
      "Enter a nested list (e.g., [[1,2],[3,4]]):  [[1,2],[3,4]]\n"
     ]
    },
    {
     "name": "stdout",
     "output_type": "stream",
     "text": [
      "2\n"
     ]
    }
   ],
   "source": [
    "def array_dimension(arr):\n",
    "    return arr.ndim\n",
    "arr = np.array(eval(input(\"Enter a nested list (e.g., [[1,2],[3,4]]): \")))\n",
    "print(array_dimension(arr))"
   ]
  },
  {
   "cell_type": "markdown",
   "id": "f7ff9aef-7b65-4135-828c-684d8c7ad6f6",
   "metadata": {},
   "source": [
    "8. Design a function item_size_info that returns the item size and total size in bytes\n",
    "of a NumPy array."
   ]
  },
  {
   "cell_type": "code",
   "execution_count": 37,
   "id": "6ce5da66-ab2d-47d7-8035-7387700fb6e4",
   "metadata": {},
   "outputs": [
    {
     "name": "stdin",
     "output_type": "stream",
     "text": [
      "Enter integers:  10 20 30\n"
     ]
    },
    {
     "name": "stdout",
     "output_type": "stream",
     "text": [
      "(4, 12)\n"
     ]
    }
   ],
   "source": [
    "def item_size_info(arr):\n",
    "    return arr.itemsize, arr.nbytes\n",
    "arr = np.array(list(map(int, input(\"Enter integers: \").split())), dtype=np.int32)\n",
    "print(item_size_info(arr))"
   ]
  },
  {
   "cell_type": "markdown",
   "id": "dbcc96aa-f4c0-45d3-81d9-181a4d874cf6",
   "metadata": {},
   "source": [
    "9. Create a function array_strides that returns the strides of the given NumPy array."
   ]
  },
  {
   "cell_type": "code",
   "execution_count": 39,
   "id": "52a5b3d3-ec8d-48d2-a367-f7ff3100f418",
   "metadata": {},
   "outputs": [
    {
     "name": "stdin",
     "output_type": "stream",
     "text": [
      "Enter number of rows:  2\n",
      "Enter number of columns:  2\n",
      "Enter 2 integers for row 1:  1 2 \n",
      "Enter 2 integers for row 2:  3 4\n"
     ]
    },
    {
     "name": "stdout",
     "output_type": "stream",
     "text": [
      "(8, 4)\n"
     ]
    }
   ],
   "source": [
    "def array_strides(arr):\n",
    "    return arr.strides\n",
    "r = int(input(\"Enter number of rows: \"))\n",
    "c = int(input(\"Enter number of columns: \"))\n",
    "arr = np.array([list(map(int, input(f\"Enter {c} integers for row {i+1}: \").split())) for i in range(r)], dtype=np.int32)\n",
    "print(array_strides(arr))"
   ]
  },
  {
   "cell_type": "markdown",
   "id": "ffd84b75-fcf2-424c-9093-9048d1c99303",
   "metadata": {},
   "source": [
    "10. Design a function shape_stride_relationship that returns the shape and\n",
    "strides of the given array."
   ]
  },
  {
   "cell_type": "code",
   "execution_count": 41,
   "id": "d107d008-4f6b-4e98-ab6e-f432bc5b3a26",
   "metadata": {},
   "outputs": [
    {
     "name": "stdin",
     "output_type": "stream",
     "text": [
      "Enter number of rows:  3\n",
      "Enter number of columns:  3\n"
     ]
    },
    {
     "name": "stdout",
     "output_type": "stream",
     "text": [
      "((3, 3), (24, 8))\n"
     ]
    }
   ],
   "source": [
    " def shape_stride_relationship(arr):\n",
    "    return arr.shape, arr.strides\n",
    "r = int(input(\"Enter number of rows: \"))\n",
    "c = int(input(\"Enter number of columns: \"))\n",
    "arr = np.ones((r, c), dtype=np.float64)\n",
    "print(shape_stride_relationship(arr))"
   ]
  },
  {
   "cell_type": "markdown",
   "id": "b37fccc0-24e4-459f-b152-3cc5ff635db1",
   "metadata": {},
   "source": [
    "Array Creation"
   ]
  },
  {
   "cell_type": "markdown",
   "id": "7b705b7c-611e-431a-a521-76cba96efe9c",
   "metadata": {},
   "source": [
    "11. Create a function create_zeros_array(n) to return a NumPy array of zeros with\n",
    "n elements."
   ]
  },
  {
   "cell_type": "code",
   "execution_count": 57,
   "id": "f931084a-48bc-40a8-b4ef-6152966f7cab",
   "metadata": {},
   "outputs": [
    {
     "name": "stdin",
     "output_type": "stream",
     "text": [
      "Enter number of elements:  5\n"
     ]
    },
    {
     "name": "stdout",
     "output_type": "stream",
     "text": [
      "[0. 0. 0. 0. 0.]\n"
     ]
    }
   ],
   "source": [
    "def create_zeros_array(n):\n",
    "    return np.zeros(n)\n",
    "n = int(input(\"Enter number of elements: \"))\n",
    "print(create_zeros_array(n))"
   ]
  },
  {
   "cell_type": "markdown",
   "id": "7e4be783-c737-4618-a6bb-fe635d4ad828",
   "metadata": {},
   "source": [
    "12. Write a function create_ones_matrix(rows, cols) to create a 2D array filled\n",
    "with ones."
   ]
  },
  {
   "cell_type": "code",
   "execution_count": 55,
   "id": "93caa11e-9177-4e72-bd0a-7835fc8c8a6d",
   "metadata": {},
   "outputs": [
    {
     "name": "stdin",
     "output_type": "stream",
     "text": [
      "Enter number of rows:  2\n",
      "Enter number of columns:  2\n"
     ]
    },
    {
     "name": "stdout",
     "output_type": "stream",
     "text": [
      "[[1. 1.]\n",
      " [1. 1.]]\n"
     ]
    }
   ],
   "source": [
    "def create_ones_matrix(rows, cols):\n",
    "    return np.ones((rows, cols))\n",
    "rows = int(input(\"Enter number of rows: \"))\n",
    "cols = int(input(\"Enter number of columns: \"))\n",
    "print(create_ones_matrix(rows, cols))"
   ]
  },
  {
   "cell_type": "markdown",
   "id": "9fed8dab-9af3-47b3-b84b-5dcc9e531352",
   "metadata": {},
   "source": [
    "13. Write a function generate_range_array(start, stop, step) to create a\n",
    "ranged NumPy array."
   ]
  },
  {
   "cell_type": "code",
   "execution_count": 59,
   "id": "84a535d1-e6b0-433c-af03-024d51047906",
   "metadata": {},
   "outputs": [
    {
     "name": "stdin",
     "output_type": "stream",
     "text": [
      "Enter start:  2\n",
      "Enter stop:  10\n",
      "Enter step:  2\n"
     ]
    },
    {
     "name": "stdout",
     "output_type": "stream",
     "text": [
      "[2 4 6 8]\n"
     ]
    }
   ],
   "source": [
    "def generate_range_array(start, stop, step):\n",
    "    return np.arange(start, stop, step)\n",
    "start = int(input(\"Enter start: \"))\n",
    "stop = int(input(\"Enter stop: \"))\n",
    "step = int(input(\"Enter step: \"))\n",
    "print(generate_range_array(start, stop, step))"
   ]
  },
  {
   "cell_type": "markdown",
   "id": "6a770cdb-5656-4b07-93c4-a8d895f81d20",
   "metadata": {},
   "source": [
    "14. Design a function generate_linear_space(start, stop, num) for equally\n",
    "spaced values."
   ]
  },
  {
   "cell_type": "code",
   "execution_count": 65,
   "id": "32f87148-526f-45d4-90b3-03d7c2d9b25d",
   "metadata": {},
   "outputs": [
    {
     "name": "stdin",
     "output_type": "stream",
     "text": [
      "Enter the start value:  2\n",
      "Enter the stop value:  15\n",
      "Enter the number of values:  5\n"
     ]
    },
    {
     "name": "stdout",
     "output_type": "stream",
     "text": [
      "Linear Space: [ 2.    5.25  8.5  11.75 15.  ]\n"
     ]
    }
   ],
   "source": [
    "def generate_linear_space():\n",
    "    start = float(input(\"Enter the start value: \"))\n",
    "    stop = float(input(\"Enter the stop value: \"))\n",
    "    num = int(input(\"Enter the number of values: \"))\n",
    "    result = np.linspace(start, stop, num)\n",
    "    print(\"Linear Space:\", result)\n",
    "generate_linear_space()"
   ]
  },
  {
   "cell_type": "markdown",
   "id": "46cddc42-4e9a-4641-8a76-b3768ad1a276",
   "metadata": {},
   "source": [
    "15. Create a function create_identity_matrix(n) using numpy.eye."
   ]
  },
  {
   "cell_type": "code",
   "execution_count": 77,
   "id": "f64f76be-974e-415f-bf96-a459b4c9c792",
   "metadata": {},
   "outputs": [
    {
     "name": "stdin",
     "output_type": "stream",
     "text": [
      "Enter size of identity matrix:  4\n"
     ]
    },
    {
     "name": "stdout",
     "output_type": "stream",
     "text": [
      "[[1. 0. 0. 0.]\n",
      " [0. 1. 0. 0.]\n",
      " [0. 0. 1. 0.]\n",
      " [0. 0. 0. 1.]]\n"
     ]
    }
   ],
   "source": [
    "def create_identity_matrix(n):\n",
    "    return np.eye(n)\n",
    "n = int(input(\"Enter size of identity matrix: \"))\n",
    "print(create_identity_matrix(n))"
   ]
  },
  {
   "cell_type": "markdown",
   "id": "54fe88be-fd60-4043-9c3e-a20c388b0e72",
   "metadata": {},
   "source": [
    "16. Write a function that converts a Python list into a NumPy array."
   ]
  },
  {
   "cell_type": "code",
   "execution_count": 81,
   "id": "d597a1ca-9e8c-4cb4-abec-70f365216c71",
   "metadata": {},
   "outputs": [
    {
     "name": "stdin",
     "output_type": "stream",
     "text": [
      "Enter a Python list (e.g., [1, 2, 3, 4]):  [10, 20, 30]\n"
     ]
    },
    {
     "name": "stdout",
     "output_type": "stream",
     "text": [
      "[10 20 30]\n"
     ]
    }
   ],
   "source": [
    "def convert_list_to_array(lst):\n",
    "    return np.array(lst)\n",
    "lst = eval(input(\"Enter a Python list (e.g., [1, 2, 3, 4]): \"))\n",
    "print(convert_list_to_array(lst))"
   ]
  },
  {
   "cell_type": "markdown",
   "id": "52414771-97a9-4ab9-becd-4221cef73da7",
   "metadata": {},
   "source": [
    "17. Create a NumPy array and use numpy.view() to create a new view with the same\n",
    "data."
   ]
  },
  {
   "cell_type": "code",
   "execution_count": 83,
   "id": "e1e96b9a-fb74-49c0-a33f-e6b6dcd4e1a4",
   "metadata": {},
   "outputs": [
    {
     "name": "stdin",
     "output_type": "stream",
     "text": [
      "Enter array elements:  1 2 3 4 5\n"
     ]
    },
    {
     "name": "stdout",
     "output_type": "stream",
     "text": [
      "Original array: [1 2 3 4 5]\n",
      "View array: [1 2 3 4 5]\n"
     ]
    }
   ],
   "source": [
    "arr = np.array(list(map(int, input(\"Enter array elements: \").split())))\n",
    "view_arr = arr.view()\n",
    "print(\"Original array:\", arr)\n",
    "print(\"View array:\", view_arr)"
   ]
  },
  {
   "cell_type": "markdown",
   "id": "e15c5e9f-b466-4d7b-b6c0-f1aafe5206a1",
   "metadata": {},
   "source": [
    "Concatenation and Stacking"
   ]
  },
  {
   "cell_type": "markdown",
   "id": "e3e2c13a-d791-48d7-8fa8-f1027bcf81f7",
   "metadata": {},
   "source": [
    "18. Write a function to concatenate two NumPy arrays along a specified axis."
   ]
  },
  {
   "cell_type": "code",
   "execution_count": 8,
   "id": "f5df8e58-52eb-44e0-96ac-b5f5c7390cf7",
   "metadata": {},
   "outputs": [],
   "source": [
    "def concatenate_arrays():\n",
    "    arr1 = input(\"Enter elements of first array (space-separated): \")\n",
    "    arr2 = input(\"Enter elements of second array (space-separated): \")\n",
    "    axis = int(input(\"Enter axis (0 for vertical, 1 for horizontal): \"))\n",
    "    a1 = np.array([int(x) for x in arr1.split()])\n",
    "    a2 = np.array([int(x) for x in arr2.split()])\n",
    "    if axis == 1:\n",
    "        a1 = a1.reshape(1, -1)\n",
    "        a2 = a2.reshape(1, -1)\n",
    "    result = np.concatenate((a1, a2), axis=axis)\n",
    "    print(\"Concatenated Array:\\n\", result)"
   ]
  },
  {
   "cell_type": "markdown",
   "id": "248b43b9-b038-4c67-b8c9-193b57361a20",
   "metadata": {},
   "source": [
    "19. Concatenate two arrays with different shapes horizontally using\n",
    "numpy.concatenate."
   ]
  },
  {
   "cell_type": "code",
   "execution_count": 16,
   "id": "726a8f59-d109-4cde-99b0-d1d2b89b3e74",
   "metadata": {},
   "outputs": [
    {
     "name": "stdin",
     "output_type": "stream",
     "text": [
      "Enter number of rows for array a:  3\n"
     ]
    },
    {
     "name": "stdout",
     "output_type": "stream",
     "text": [
      "Enter elements for array a (1 element per row):\n"
     ]
    },
    {
     "name": "stdin",
     "output_type": "stream",
     "text": [
      " 1\n",
      " 2\n",
      " 3\n",
      "Enter number of columns for array b:  2\n",
      "Enter 2 elements for 1 row of array b:  4 5\n"
     ]
    },
    {
     "name": "stdout",
     "output_type": "stream",
     "text": [
      "Concatenated Array:\n",
      " [[1 4 5]\n",
      " [2 4 5]\n",
      " [3 4 5]]\n"
     ]
    }
   ],
   "source": [
    "import numpy as np\n",
    "rows = int(input(\"Enter number of rows for array a: \"))\n",
    "a = []\n",
    "print(\"Enter elements for array a (1 element per row):\")\n",
    "for _ in range(rows):\n",
    "    a.append([int(input())])\n",
    "a = np.array(a)\n",
    "cols = int(input(\"Enter number of columns for array b: \"))\n",
    "b = list(map(int, input(f\"Enter {cols} elements for 1 row of array b: \").split()))\n",
    "b = np.array([b])\n",
    "b_reshaped = np.repeat(b, rows, axis=0)\n",
    "result = np.concatenate((a, b_reshaped), axis=1)\n",
    "print(\"Concatenated Array:\\n\", result)"
   ]
  },
  {
   "cell_type": "markdown",
   "id": "7fbcf63b-7231-4dfb-9610-a49704676b87",
   "metadata": {},
   "source": [
    "\n",
    "20. Vertically stack multiple arrays from a list using numpy.vstack."
   ]
  },
  {
   "cell_type": "code",
   "execution_count": 20,
   "id": "5efb8501-b83e-4f2d-8f66-3768e3cbbb9e",
   "metadata": {},
   "outputs": [
    {
     "name": "stdin",
     "output_type": "stream",
     "text": [
      "Enter number of arrays to stack:  3\n",
      "Enter elements of array 1 (space-separated):  1 2\n",
      "Enter elements of array 2 (space-separated):  2 3\n",
      "Enter elements of array 3 (space-separated):  3 4\n"
     ]
    },
    {
     "name": "stdout",
     "output_type": "stream",
     "text": [
      "\n",
      "Output:\n",
      "[[1 2]\n",
      " [2 3]\n",
      " [3 4]]\n"
     ]
    }
   ],
   "source": [
    "n = int(input(\"Enter number of arrays to stack: \"))\n",
    "arrays = []\n",
    "for i in range(n):\n",
    "    arr = list(map(int, input(f\"Enter elements of array {i+1} (space-separated): \").split()))\n",
    "    arrays.append(np.array(arr))\n",
    "result = np.vstack(arrays)\n",
    "print(\"\\nOutput:\")\n",
    "print(result)"
   ]
  },
  {
   "cell_type": "markdown",
   "id": "1f019b5f-10ee-4f1a-89ff-7fd5fa668369",
   "metadata": {},
   "source": [
    "Array Generation"
   ]
  },
  {
   "cell_type": "markdown",
   "id": "515803df-fb9c-4f98-9fed-186ac85fa13c",
   "metadata": {},
   "source": [
    "21. Write a function to generate an array of integers within a specified range (inclusive)\n",
    "with a step."
   ]
  },
  {
   "cell_type": "code",
   "execution_count": 31,
   "id": "5553cd9a-69ff-44a5-8daa-28ba2b833598",
   "metadata": {},
   "outputs": [
    {
     "name": "stdin",
     "output_type": "stream",
     "text": [
      "Enter start value:  2\n",
      "Enter stop value (inclusive):  10\n",
      "Enter step value:  2\n"
     ]
    },
    {
     "name": "stdout",
     "output_type": "stream",
     "text": [
      "\n",
      "Output:\n",
      "[ 2  4  6  8 10]\n"
     ]
    }
   ],
   "source": [
    "start = int(input(\"Enter start value: \"))\n",
    "stop = int(input(\"Enter stop value (inclusive): \"))\n",
    "step = int(input(\"Enter step value: \"))\n",
    "result = np.arange(start, stop + 1, step)\n",
    "print(\"\\nOutput:\")\n",
    "print(result)"
   ]
  },
  {
   "cell_type": "markdown",
   "id": "5d980467-90b6-4499-b75a-c30ff0434212",
   "metadata": {},
   "source": [
    "22. Generate 10 equally spaced values between 0 and 1 using NumPy."
   ]
  },
  {
   "cell_type": "code",
   "execution_count": 29,
   "id": "17861412-5fd1-4cbd-9963-f7ab37fa09c9",
   "metadata": {},
   "outputs": [
    {
     "name": "stdout",
     "output_type": "stream",
     "text": [
      "\n",
      "Output:\n",
      "[0.         0.11111111 0.22222222 0.33333333 0.44444444 0.55555556\n",
      " 0.66666667 0.77777778 0.88888889 1.        ]\n"
     ]
    }
   ],
   "source": [
    "result = np.linspace(0, 1, 10)\n",
    "print(\"\\nOutput:\")\n",
    "print(result)"
   ]
  },
  {
   "cell_type": "markdown",
   "id": "e9c36ff3-d681-4eb7-b8db-de9bf30c8522",
   "metadata": {},
   "source": [
    "23. Create 5 logarithmically spaced values between 1 and 1000."
   ]
  },
  {
   "cell_type": "code",
   "execution_count": 33,
   "id": "57f46061-9a42-425c-8255-0d0897628a3b",
   "metadata": {},
   "outputs": [
    {
     "name": "stdout",
     "output_type": "stream",
     "text": [
      "\n",
      "Output:\n",
      "[   1.            5.62341325   31.6227766   177.827941   1000.        ]\n"
     ]
    }
   ],
   "source": [
    "result = np.logspace(0, 3, 5)\n",
    "print(\"\\nOutput:\")\n",
    "print(result)"
   ]
  },
  {
   "cell_type": "markdown",
   "id": "a0441245-d62a-4209-ad41-f032fdc4d0c3",
   "metadata": {},
   "source": [
    "Pandas + NumPy"
   ]
  },
  {
   "cell_type": "markdown",
   "id": "bb8c5dca-4e4c-4ca7-8931-b91995d43ed0",
   "metadata": {},
   "source": [
    "24. Create a Pandas DataFrame from a NumPy array with 5 rows and 3 columns of\n",
    "random integers (1-100)."
   ]
  },
  {
   "cell_type": "code",
   "execution_count": 38,
   "id": "49a2185f-d1f4-4bd5-bc66-dce5d80f99e8",
   "metadata": {},
   "outputs": [
    {
     "name": "stdout",
     "output_type": "stream",
     "text": [
      "\n",
      "Output:\n",
      "    A   B   C\n",
      "0  60   6  18\n",
      "1  87  32  27\n",
      "2  97  75   9\n",
      "3  11  97  89\n",
      "4  97  28  34\n"
     ]
    }
   ],
   "source": [
    "import pandas as pd\n",
    "array = np.random.randint(1, 101, size=(5, 3))\n",
    "df = pd.DataFrame(array, columns=['A', 'B', 'C'])\n",
    "print(\"\\nOutput:\")\n",
    "print(df)"
   ]
  },
  {
   "cell_type": "markdown",
   "id": "c8c63a36-2944-4126-9f8f-41db9a55f6a5",
   "metadata": {},
   "source": [
    "25. Write a function to replace all negative values in a specific column with zeros using\n",
    "NumPy."
   ]
  },
  {
   "cell_type": "code",
   "execution_count": 40,
   "id": "61ac4ee1-757e-4f05-b3d5-a5829028d0c5",
   "metadata": {},
   "outputs": [
    {
     "name": "stdin",
     "output_type": "stream",
     "text": [
      "Enter column name to replace negatives with 0:  B\n"
     ]
    },
    {
     "name": "stdout",
     "output_type": "stream",
     "text": [
      "\n",
      "Output:\n",
      "   A  B\n",
      "0  5  2\n",
      "1 -3  0\n",
      "2  7  0\n",
      "3 -1  9\n"
     ]
    }
   ],
   "source": [
    "data = {\n",
    "    'A': [5, -3, 7, -1],\n",
    "    'B': [2, -6, -4, 9]\n",
    "}\n",
    "df = pd.DataFrame(data)\n",
    "col = input(\"Enter column name to replace negatives with 0: \")\n",
    "arr = df[col].values\n",
    "arr[arr < 0] = 0\n",
    "df[col] = arr\n",
    "print(\"\\nOutput:\")\n",
    "print(df)"
   ]
  },
  {
   "cell_type": "markdown",
   "id": "7cd00d8f-4eed-4af1-80e8-5d3d06979483",
   "metadata": {},
   "source": [
    "Indexing and Slicing"
   ]
  },
  {
   "cell_type": "markdown",
   "id": "d04ccdae-41de-479c-aa47-bd03e541f3d1",
   "metadata": {},
   "source": [
    "26. Access the 3rd element from the given NumPy array."
   ]
  },
  {
   "cell_type": "code",
   "execution_count": 50,
   "id": "20355a3f-3ef9-4b95-8afd-5f7dd6b4703e",
   "metadata": {},
   "outputs": [
    {
     "name": "stdin",
     "output_type": "stream",
     "text": [
      "Enter elements of the array (space-separated):  10 20 30 40 50\n"
     ]
    },
    {
     "name": "stdout",
     "output_type": "stream",
     "text": [
      "\n",
      "Output:\n",
      "30\n"
     ]
    }
   ],
   "source": [
    "arr = np.array(list(map(int, input(\"Enter elements of the array (space-separated): \").split())))\n",
    "print(\"\\nOutput:\")\n",
    "print(arr[2])"
   ]
  },
  {
   "cell_type": "markdown",
   "id": "c4871298-5bd0-4a6a-9746-a580ff46a58c",
   "metadata": {},
   "source": [
    "27. Retrieve the element at index (1, 2) from a 2D array."
   ]
  },
  {
   "cell_type": "code",
   "execution_count": 52,
   "id": "bc2d6928-84c6-4e84-b3b8-28e36d6e471e",
   "metadata": {},
   "outputs": [
    {
     "name": "stdout",
     "output_type": "stream",
     "text": [
      "\n",
      "Output:\n",
      "6\n"
     ]
    }
   ],
   "source": [
    "arr = np.array([[1, 2, 3], [4, 5, 6]])\n",
    "print(\"\\nOutput:\")\n",
    "print(arr[1, 2])"
   ]
  },
  {
   "cell_type": "markdown",
   "id": "9c91fc86-87b6-409d-b5ad-dad43ae81647",
   "metadata": {},
   "source": [
    "\n",
    "28. Extract elements greater than 5 using boolean indexing."
   ]
  },
  {
   "cell_type": "code",
   "execution_count": 58,
   "id": "0495198d-88aa-418f-b90b-bb4dd703c392",
   "metadata": {},
   "outputs": [
    {
     "name": "stdin",
     "output_type": "stream",
     "text": [
      "Enter array elements (space-separated):  3 7 5 1 2\n"
     ]
    },
    {
     "name": "stdout",
     "output_type": "stream",
     "text": [
      "\n",
      "Output:\n",
      "[7]\n"
     ]
    }
   ],
   "source": [
    "arr = np.array(list(map(int, input(\"Enter array elements (space-separated): \").split())))\n",
    "print(\"\\nOutput:\")\n",
    "print(arr[arr > 5])"
   ]
  },
  {
   "cell_type": "markdown",
   "id": "a722ab6c-2730-4b6b-8ea3-d99587f44787",
   "metadata": {},
   "source": [
    "\n",
    "29. Slice elements from index 2 to 5 (inclusive) from a NumPy array."
   ]
  },
  {
   "cell_type": "code",
   "execution_count": 60,
   "id": "1b0db309-bd80-4e8b-8d65-3d29ca7a78f5",
   "metadata": {},
   "outputs": [
    {
     "name": "stdin",
     "output_type": "stream",
     "text": [
      "Enter array elements (space-separated):  10 12 14 56 45\n"
     ]
    },
    {
     "name": "stdout",
     "output_type": "stream",
     "text": [
      "\n",
      "Output:\n",
      "[14 56 45]\n"
     ]
    }
   ],
   "source": [
    "arr = np.array(list(map(int, input(\"Enter array elements (space-separated): \").split())))\n",
    "print(\"\\nOutput:\")\n",
    "print(arr[2:6])"
   ]
  },
  {
   "cell_type": "markdown",
   "id": "6a149822-180e-4f65-867a-d2b50622fae4",
   "metadata": {},
   "source": [
    "\n",
    "30. Slice the sub-array [[2, 3], [5, 6]] from a 2D array."
   ]
  },
  {
   "cell_type": "code",
   "execution_count": 62,
   "id": "bff955d7-069f-4fc1-b875-fc22a8dffa2c",
   "metadata": {},
   "outputs": [
    {
     "name": "stdout",
     "output_type": "stream",
     "text": [
      "\n",
      "Output:\n",
      "[[2 3]\n",
      " [5 6]]\n"
     ]
    }
   ],
   "source": [
    "arr = np.array([[1, 2, 3], [4, 5, 6], [7, 8, 9]])\n",
    "print(\"\\nOutput:\")\n",
    "print(arr[0:2, 1:3])"
   ]
  },
  {
   "cell_type": "markdown",
   "id": "fa275a6d-367f-4532-a683-2869f0b886be",
   "metadata": {},
   "source": [
    "Advanced Indexing"
   ]
  },
  {
   "cell_type": "markdown",
   "id": "64d8027b-176d-4b66-9240-c21c22215e89",
   "metadata": {},
   "source": [
    "\n",
    "31. Extract elements based on indices from a 2D array."
   ]
  },
  {
   "cell_type": "code",
   "execution_count": 72,
   "id": "6d4cd1da-2d54-43fc-9e26-1508c7fe54de",
   "metadata": {},
   "outputs": [
    {
     "name": "stdout",
     "output_type": "stream",
     "text": [
      "\n",
      "Output:\n",
      "[[10 20 30]\n",
      " [70 80 90]]\n"
     ]
    }
   ],
   "source": [
    "arr = np.array([[10, 20, 30], [40, 50, 60], [70, 80, 90]])\n",
    "indices = [0, 2]\n",
    "print(\"\\nOutput:\")\n",
    "print(arr[indices])"
   ]
  },
  {
   "cell_type": "markdown",
   "id": "8eb47052-bbb1-48ed-8077-e409a12dcfdc",
   "metadata": {},
   "source": [
    "\n",
    "32. Filter elements greater than a threshold using boolean indexing."
   ]
  },
  {
   "cell_type": "code",
   "execution_count": 74,
   "id": "36a3bd94-1d20-4e4b-a289-a8a9944184a8",
   "metadata": {},
   "outputs": [
    {
     "name": "stdin",
     "output_type": "stream",
     "text": [
      "Enter array elements (space-separated):  1 3 5 7 9\n",
      "Enter threshold:  5\n"
     ]
    },
    {
     "name": "stdout",
     "output_type": "stream",
     "text": [
      "\n",
      "Output:\n",
      "[7 9]\n"
     ]
    }
   ],
   "source": [
    "arr = np.array(list(map(int, input(\"Enter array elements (space-separated): \").split())))\n",
    "threshold = int(input(\"Enter threshold: \"))\n",
    "print(\"\\nOutput:\")\n",
    "print(arr[arr > threshold])"
   ]
  },
  {
   "cell_type": "markdown",
   "id": "4b0e3445-0f0a-49ad-ac0a-4f9b5baac243",
   "metadata": {},
   "source": [
    "\n",
    "33. Extract specific elements from a 3D array using separate index arrays."
   ]
  },
  {
   "cell_type": "code",
   "execution_count": 76,
   "id": "1141b845-9311-4775-8376-ae7f296a2ed0",
   "metadata": {},
   "outputs": [
    {
     "name": "stdout",
     "output_type": "stream",
     "text": [
      "\n",
      "Output:\n",
      "[ 5 14 23]\n"
     ]
    }
   ],
   "source": [
    "arr = np.arange(27).reshape(3, 3, 3)\n",
    "i = np.array([0, 1, 2])\n",
    "j = np.array([1, 1, 1])\n",
    "k = np.array([2, 2, 2])\n",
    "print(\"\\nOutput:\")\n",
    "print(arr[i, j, k])"
   ]
  },
  {
   "cell_type": "markdown",
   "id": "7d3733c7-1fb1-436a-a669-41f82799bc1b",
   "metadata": {},
   "source": [
    "\n",
    "34. Return elements satisfying two boolean conditions."
   ]
  },
  {
   "cell_type": "code",
   "execution_count": 78,
   "id": "a923afa6-22b4-4c13-8504-57368775c028",
   "metadata": {},
   "outputs": [
    {
     "name": "stdin",
     "output_type": "stream",
     "text": [
      "Enter array elements (space-separated):  2 4 6 8 10 12\n"
     ]
    },
    {
     "name": "stdout",
     "output_type": "stream",
     "text": [
      "\n",
      "Output:\n",
      "[6 8]\n"
     ]
    }
   ],
   "source": [
    "arr = np.array(list(map(int, input(\"Enter array elements (space-separated): \").split())))\n",
    "print(\"\\nOutput:\")\n",
    "print(arr[(arr > 5) & (arr < 10)])"
   ]
  },
  {
   "cell_type": "markdown",
   "id": "bd0a644e-c656-4e3e-8eb9-0fafc29f5c46",
   "metadata": {},
   "source": [
    "\n",
    "35. Extract elements from a 2D array using separate row and column index arrays."
   ]
  },
  {
   "cell_type": "code",
   "execution_count": 80,
   "id": "b995dd01-ee04-46fa-ad32-16ecada70906",
   "metadata": {},
   "outputs": [
    {
     "name": "stdout",
     "output_type": "stream",
     "text": [
      "\n",
      "Output:\n",
      "[12 21 33]\n"
     ]
    }
   ],
   "source": [
    "arr = np.array([[11, 12, 13], [21, 22, 23], [31, 32, 33]])\n",
    "rows = np.array([0, 1, 2])\n",
    "cols = np.array([1, 0, 2])\n",
    "print(\"\\nOutput:\")\n",
    "print(arr[rows, cols])"
   ]
  },
  {
   "cell_type": "markdown",
   "id": "875c3144-f1d9-408c-b1b0-20ec7bd0f661",
   "metadata": {},
   "source": [
    "Broadcasting"
   ]
  },
  {
   "cell_type": "markdown",
   "id": "79d499a8-61a0-4afc-be64-2fbf6516cade",
   "metadata": {},
   "source": [
    "\n",
    "36. Add scalar 5 to every element of an array using broadcasting."
   ]
  },
  {
   "cell_type": "code",
   "execution_count": 90,
   "id": "7c1158ac-0d1a-4986-9acc-e600c9a53662",
   "metadata": {},
   "outputs": [
    {
     "name": "stdin",
     "output_type": "stream",
     "text": [
      "Enter array elements (space-separated):  1 2 3 4 5\n"
     ]
    },
    {
     "name": "stdout",
     "output_type": "stream",
     "text": [
      "\n",
      "Output:\n",
      "[ 6  7  8  9 10]\n"
     ]
    }
   ],
   "source": [
    "arr = np.array(list(map(int, input(\"Enter array elements (space-separated): \").split())))\n",
    "result = arr + 5\n",
    "print(\"\\nOutput:\")\n",
    "print(result)"
   ]
  },
  {
   "cell_type": "markdown",
   "id": "5784a919-4243-4099-a392-b6137461261c",
   "metadata": {},
   "source": [
    "\n",
    "37. Multiply each row of a (3, 4) array by corresponding elements of a (1, 3) array."
   ]
  },
  {
   "cell_type": "code",
   "execution_count": 92,
   "id": "12e06649-8af5-4f7e-943b-4ad56f9eca0d",
   "metadata": {},
   "outputs": [
    {
     "name": "stdout",
     "output_type": "stream",
     "text": [
      "\n",
      "Output:\n",
      "[[ 1  2  3  4]\n",
      " [10 12 14 16]\n",
      " [27 30 33 36]]\n"
     ]
    }
   ],
   "source": [
    "A = np.array([[1, 2, 3, 4],\n",
    "              [5, 6, 7, 8],\n",
    "              [9,10,11,12]])\n",
    "B = np.array([[1], [2], [3]])\n",
    "result = A * B\n",
    "print(\"\\nOutput:\")\n",
    "print(result)"
   ]
  },
  {
   "cell_type": "markdown",
   "id": "83519d82-64c8-47e3-aaed-80253572755c",
   "metadata": {},
   "source": [
    "\n",
    "38. Add a (1, 4) array to every row of a (4, 3) array using broadcasting."
   ]
  },
  {
   "cell_type": "code",
   "execution_count": 94,
   "id": "d75db136-ffa3-4e9e-857c-2df367dec8d1",
   "metadata": {},
   "outputs": [
    {
     "name": "stdout",
     "output_type": "stream",
     "text": [
      "\n",
      "Output:\n",
      "[[101 202 303]\n",
      " [104 205 306]\n",
      " [107 208 309]\n",
      " [110 211 312]]\n"
     ]
    }
   ],
   "source": [
    "A = np.array([[1, 2, 3],\n",
    "              [4, 5, 6],\n",
    "              [7, 8, 9],\n",
    "              [10,11,12]])\n",
    "B = np.array([[100, 200, 300]])\n",
    "result = A + B\n",
    "print(\"\\nOutput:\")\n",
    "print(result)"
   ]
  },
  {
   "cell_type": "markdown",
   "id": "b644a093-025b-41c3-90e1-7133f7c0b241",
   "metadata": {},
   "source": [
    "\n",
    "39. Add two arrays of shapes (3, 1) and (1, 3) using broadcasting."
   ]
  },
  {
   "cell_type": "code",
   "execution_count": 96,
   "id": "737a510d-d008-473c-b880-1a14436e6aed",
   "metadata": {},
   "outputs": [
    {
     "name": "stdout",
     "output_type": "stream",
     "text": [
      "\n",
      "Output:\n",
      "[[11 21 31]\n",
      " [12 22 32]\n",
      " [13 23 33]]\n"
     ]
    }
   ],
   "source": [
    "A = np.array([[1], [2], [3]])\n",
    "B = np.array([[10, 20, 30]])\n",
    "result = A + B\n",
    "print(\"\\nOutput:\")\n",
    "print(result)"
   ]
  },
  {
   "cell_type": "markdown",
   "id": "c92cb98a-ced5-4186-9390-70991467ee35",
   "metadata": {},
   "source": [
    "\n",
    "40. Handle shape incompatibility during multiplication between (2, 3) and (2, 2)\n",
    "arrays.\n"
   ]
  },
  {
   "cell_type": "code",
   "execution_count": 98,
   "id": "db13e3e0-c013-4c3b-950d-3e8a602a689c",
   "metadata": {},
   "outputs": [
    {
     "name": "stdout",
     "output_type": "stream",
     "text": [
      "\n",
      "Output:\n",
      "operands could not be broadcast together with shapes (2,3) (2,2) \n"
     ]
    }
   ],
   "source": [
    "A = np.array([[1, 2, 3],\n",
    "              [4, 5, 6]])\n",
    "B = np.array([[1, 2],\n",
    "              [3, 4]])\n",
    "try:\n",
    "    result = A * B\n",
    "except ValueError as e:\n",
    "    result = str(e)\n",
    "print(\"\\nOutput:\")\n",
    "print(result)"
   ]
  },
  {
   "cell_type": "markdown",
   "id": "5ef7b587-4d1d-40c6-a4c4-0f45bd3c1948",
   "metadata": {},
   "source": [
    "Aggregations and Statistics"
   ]
  },
  {
   "cell_type": "markdown",
   "id": "646c4812-1aad-4cb2-99a9-f6d0f03a6e34",
   "metadata": {},
   "source": [
    "41. Calculate column-wise mean of a 2D array."
   ]
  },
  {
   "cell_type": "code",
   "execution_count": 114,
   "id": "816dae51-124e-46ac-a57b-f25c0d2d7f25",
   "metadata": {},
   "outputs": [
    {
     "name": "stdout",
     "output_type": "stream",
     "text": [
      "\n",
      "Output:\n",
      "[4. 5. 6.]\n"
     ]
    }
   ],
   "source": [
    "arr = np.array([[1, 2, 3], [4, 5, 6], [7, 8, 9]])\n",
    "result = np.mean(arr, axis=0)\n",
    "print(\"\\nOutput:\")\n",
    "print(result)"
   ]
  },
  {
   "cell_type": "markdown",
   "id": "e3add790-52e4-4de3-acc0-9f7a742c8447",
   "metadata": {},
   "source": [
    "\n",
    "42. Find maximum value in each row."
   ]
  },
  {
   "cell_type": "code",
   "execution_count": 126,
   "id": "2c274bf1-f8fa-4950-b2a3-e037f51605a3",
   "metadata": {},
   "outputs": [
    {
     "name": "stdout",
     "output_type": "stream",
     "text": [
      "\n",
      "Output:\n",
      "[8 7 9]\n"
     ]
    }
   ],
   "source": [
    "arr = np.array([[3, 8, 1], [6, 7, 2], [4, 5, 9]])\n",
    "result = np.max(arr, axis=1)\n",
    "print(\"\\nOutput:\")\n",
    "print(result)"
   ]
  },
  {
   "cell_type": "markdown",
   "id": "882af142-f4e9-435c-a76a-ca2b10419d79",
   "metadata": {},
   "source": [
    "\n",
    "43. Find indices of maximum values in each column."
   ]
  },
  {
   "cell_type": "code",
   "execution_count": 124,
   "id": "cf5f0b92-c166-473a-8201-e1631d1f2703",
   "metadata": {},
   "outputs": [
    {
     "name": "stdout",
     "output_type": "stream",
     "text": [
      "\n",
      "Output:\n",
      "[1 2 1]\n"
     ]
    }
   ],
   "source": [
    "arr = np.array([[10, 25, 13], [22, 14, 19], [5, 30, 7]])\n",
    "result = np.argmax(arr, axis=0)\n",
    "print(\"\\nOutput:\")\n",
    "print(result)"
   ]
  },
  {
   "cell_type": "markdown",
   "id": "1a88dc85-7786-4c48-8aad-89df80b1e5fc",
   "metadata": {},
   "source": [
    "\n",
    "44. Apply a custom function to compute moving sum along rows."
   ]
  },
  {
   "cell_type": "code",
   "execution_count": 122,
   "id": "69b82e48-40ad-4416-bcf4-649cb059b6a7",
   "metadata": {},
   "outputs": [
    {
     "name": "stdin",
     "output_type": "stream",
     "text": [
      "Enter window size:  2\n"
     ]
    },
    {
     "name": "stdout",
     "output_type": "stream",
     "text": [
      "\n",
      "Output:\n",
      "[[ 3  5  7]\n",
      " [11 13 15]]\n"
     ]
    }
   ],
   "source": [
    "arr = np.array([[1, 2, 3, 4], [5, 6, 7, 8]])\n",
    "k = int(input(\"Enter window size: \"))\n",
    "result = np.array([np.convolve(row, np.ones(k, dtype=int), 'valid') for row in arr])\n",
    "print(\"\\nOutput:\")\n",
    "print(result)"
   ]
  },
  {
   "cell_type": "markdown",
   "id": "89c9abbf-7d5f-4b0b-955e-053f54a16eb8",
   "metadata": {},
   "source": [
    "\n",
    "45. Check if all elements in each column are even."
   ]
  },
  {
   "cell_type": "code",
   "execution_count": 128,
   "id": "38d662f3-a5f7-494b-970a-5858e1a1be35",
   "metadata": {},
   "outputs": [
    {
     "name": "stdout",
     "output_type": "stream",
     "text": [
      "\n",
      "Output:\n",
      "[ True  True  True]\n"
     ]
    }
   ],
   "source": [
    "arr = np.array([[2, 4, 6], [8, 10, 12], [14, 16, 18]])\n",
    "result = np.all(arr % 2 == 0, axis=0)\n",
    "print(\"\\nOutput:\")\n",
    "print(result)"
   ]
  },
  {
   "cell_type": "markdown",
   "id": "ce9085a1-ae32-438b-b082-fb3099db1946",
   "metadata": {},
   "source": [
    "Reshaping and Flattening"
   ]
  },
  {
   "cell_type": "markdown",
   "id": "8a455b94-bb57-46cb-82be-6e5f5ecb72a5",
   "metadata": {},
   "source": [
    "46. Reshape a given array into dimensions m x n."
   ]
  },
  {
   "cell_type": "code",
   "execution_count": 130,
   "id": "ac96c23b-8eda-4139-a1c9-2db5c9113cf1",
   "metadata": {},
   "outputs": [
    {
     "name": "stdin",
     "output_type": "stream",
     "text": [
      "Enter elements of array (space-separated):  1 2 3 4 5 6\n",
      "Enter number of rows:  2 \n",
      "Enter number of columns:  3\n"
     ]
    },
    {
     "name": "stdout",
     "output_type": "stream",
     "text": [
      "\n",
      "Output:\n",
      "[[1 2 3]\n",
      " [4 5 6]]\n"
     ]
    }
   ],
   "source": [
    "arr = np.array(list(map(int, input(\"Enter elements of array (space-separated): \").split())))\n",
    "m = int(input(\"Enter number of rows: \"))\n",
    "n = int(input(\"Enter number of columns: \"))\n",
    "result = arr.reshape(m, n)\n",
    "print(\"\\nOutput:\")\n",
    "print(result)"
   ]
  },
  {
   "cell_type": "markdown",
   "id": "39f77176-e25a-470d-978f-4cbefdfb8ea2",
   "metadata": {},
   "source": [
    "47. Return a flattened version of a given matrix."
   ]
  },
  {
   "cell_type": "code",
   "execution_count": 132,
   "id": "a88630c6-3211-48f0-a067-ef5d4ec1744b",
   "metadata": {},
   "outputs": [
    {
     "name": "stdout",
     "output_type": "stream",
     "text": [
      "\n",
      "Output:\n",
      "[1 2 3 4]\n"
     ]
    }
   ],
   "source": [
    "arr = np.array([[1, 2], [3, 4]])\n",
    "result = arr.flatten()\n",
    "print(\"\\nOutput:\")\n",
    "print(result)"
   ]
  },
  {
   "cell_type": "markdown",
   "id": "b0d45c43-c157-4678-8c1b-30266f85b6e9",
   "metadata": {},
   "source": [
    "\n",
    "48. Concatenate two arrays along a specified axis."
   ]
  },
  {
   "cell_type": "code",
   "execution_count": 136,
   "id": "32294f5f-e06b-44ec-a93b-8d30a13409af",
   "metadata": {},
   "outputs": [
    {
     "name": "stdin",
     "output_type": "stream",
     "text": [
      "Enter axis to concatenate on (0 or 1):  1\n"
     ]
    },
    {
     "name": "stdout",
     "output_type": "stream",
     "text": [
      "\n",
      "Output:\n",
      "[[1 2 5 6]\n",
      " [3 4 7 8]]\n"
     ]
    }
   ],
   "source": [
    "a = np.array([[1, 2], [3, 4]])\n",
    "b = np.array([[5, 6], [7, 8]])\n",
    "axis = int(input(\"Enter axis to concatenate on (0 or 1): \"))\n",
    "result = np.concatenate((a, b), axis=axis)\n",
    "print(\"\\nOutput:\")\n",
    "print(result)"
   ]
  },
  {
   "cell_type": "markdown",
   "id": "4ffdf51b-6082-4510-9329-a9fdc5daf87c",
   "metadata": {},
   "source": [
    "\n",
    "49. Split an array into sub-arrays along a specified axis."
   ]
  },
  {
   "cell_type": "code",
   "execution_count": 138,
   "id": "0bfceb6f-f8f6-4483-84a6-5b3c398fc929",
   "metadata": {},
   "outputs": [
    {
     "name": "stdin",
     "output_type": "stream",
     "text": [
      "Enter axis to split on (0 or 1):  0\n"
     ]
    },
    {
     "name": "stdout",
     "output_type": "stream",
     "text": [
      "\n",
      "Output:\n",
      "[[10 20 30 40]]\n",
      "[[50 60 70 80]]\n"
     ]
    }
   ],
   "source": [
    "arr = np.array([[10, 20, 30, 40], [50, 60, 70, 80]])\n",
    "axis = int(input(\"Enter axis to split on (0 or 1): \"))\n",
    "result = np.split(arr, 2, axis=axis)\n",
    "print(\"\\nOutput:\")\n",
    "for r in result:\n",
    "    print(r)"
   ]
  },
  {
   "cell_type": "markdown",
   "id": "93f0d4c9-05f8-43d6-9a48-9f5229adb74e",
   "metadata": {},
   "source": [
    "\n",
    "50. Insert and delete elements at specified indices from an array.\n"
   ]
  },
  {
   "cell_type": "code",
   "execution_count": 140,
   "id": "73a6aa62-486e-4298-a12a-828715616c17",
   "metadata": {},
   "outputs": [
    {
     "name": "stdin",
     "output_type": "stream",
     "text": [
      "Enter value to insert:  99\n",
      "Enter index to insert at:  2\n",
      "Enter index to delete:  4\n"
     ]
    },
    {
     "name": "stdout",
     "output_type": "stream",
     "text": [
      "\n",
      "Output:\n",
      "[ 1  2 99  3  5]\n"
     ]
    }
   ],
   "source": [
    "arr = np.array([1, 2, 3, 4, 5])\n",
    "insert_val = int(input(\"Enter value to insert: \"))\n",
    "insert_index = int(input(\"Enter index to insert at: \"))\n",
    "delete_index = int(input(\"Enter index to delete: \"))\n",
    "arr = np.insert(arr, insert_index, insert_val)\n",
    "arr = np.delete(arr, delete_index)\n",
    "print(\"\\nOutput:\")\n",
    "print(arr)"
   ]
  },
  {
   "cell_type": "markdown",
   "id": "3bccbc7b-fab9-40c4-92a4-81932691dc4a",
   "metadata": {},
   "source": [
    "Element-wise Operations"
   ]
  },
  {
   "cell_type": "markdown",
   "id": "ecb72da3-c7e7-4831-a58e-d86e8ed62c07",
   "metadata": {},
   "source": [
    "\n",
    "51. Perform element-wise addition between two arrays."
   ]
  },
  {
   "cell_type": "code",
   "execution_count": 154,
   "id": "06117b43-b96e-457e-993a-6e0fb8c95148",
   "metadata": {},
   "outputs": [
    {
     "name": "stdout",
     "output_type": "stream",
     "text": [
      "\n",
      "Output:\n",
      "[5 7 9]\n"
     ]
    }
   ],
   "source": [
    "arr1 = np.array([1, 2, 3])\n",
    "arr2 = np.array([4, 5, 6])\n",
    "result = arr1 + arr2\n",
    "print(\"\\nOutput:\")\n",
    "print(result)"
   ]
  },
  {
   "cell_type": "markdown",
   "id": "72c28449-15bd-4e7b-ab4d-6d880f9002c4",
   "metadata": {},
   "source": [
    "\n",
    "52. Perform element-wise subtraction: subtract arr2 from arr1."
   ]
  },
  {
   "cell_type": "code",
   "execution_count": 156,
   "id": "27314e3b-342c-44a5-8cad-e5de5dda86ee",
   "metadata": {},
   "outputs": [
    {
     "name": "stdout",
     "output_type": "stream",
     "text": [
      "\n",
      "Output:\n",
      "[ 9 18 27]\n"
     ]
    }
   ],
   "source": [
    "arr1 = np.array([10, 20, 30])\n",
    "arr2 = np.array([1, 2, 3])\n",
    "result = arr1 - arr2\n",
    "print(\"\\nOutput:\")\n",
    "print(result)"
   ]
  },
  {
   "cell_type": "markdown",
   "id": "3d609d57-50c3-4f63-9175-24b747f857db",
   "metadata": {},
   "source": [
    "\n",
    "53. Perform element-wise multiplication."
   ]
  },
  {
   "cell_type": "code",
   "execution_count": 158,
   "id": "401bc2a6-d9e3-42c1-82bc-e238e53c498e",
   "metadata": {},
   "outputs": [
    {
     "name": "stdout",
     "output_type": "stream",
     "text": [
      "\n",
      "Output:\n",
      "[10 18 28]\n"
     ]
    }
   ],
   "source": [
    "arr1 = np.array([2, 3, 4])\n",
    "arr2 = np.array([5, 6, 7])\n",
    "result = arr1 * arr2\n",
    "print(\"\\nOutput:\")\n",
    "print(result)"
   ]
  },
  {
   "cell_type": "markdown",
   "id": "ade1120b-5cf5-4326-9aa6-d89619928024",
   "metadata": {},
   "source": [
    "\n",
    "54. Divide elements of arr1 by arr2 element-wise."
   ]
  },
  {
   "cell_type": "code",
   "execution_count": 160,
   "id": "872913e0-9746-4c4d-ab74-11bc27c4c467",
   "metadata": {},
   "outputs": [
    {
     "name": "stdout",
     "output_type": "stream",
     "text": [
      "\n",
      "Output:\n",
      "[5. 5. 6.]\n"
     ]
    }
   ],
   "source": [
    "arr1 = np.array([10, 20, 30])\n",
    "arr2 = np.array([2, 4, 5])\n",
    "result = arr1 / arr2\n",
    "print(\"\\nOutput:\")\n",
    "print(result)"
   ]
  },
  {
   "cell_type": "markdown",
   "id": "b8ac1152-6a6c-46e2-965d-85049fb611e3",
   "metadata": {},
   "source": [
    "55. Perform element-wise exponentiation: arr1 ** arr2."
   ]
  },
  {
   "cell_type": "code",
   "execution_count": 162,
   "id": "83ce5730-d549-4e77-8ec0-8ad83cbc9910",
   "metadata": {},
   "outputs": [
    {
     "name": "stdout",
     "output_type": "stream",
     "text": [
      "\n",
      "Output:\n",
      "[8 9 4]\n"
     ]
    }
   ],
   "source": [
    "arr1 = np.array([2, 3, 4])\n",
    "arr2 = np.array([3, 2, 1])\n",
    "result = arr1 ** arr2\n",
    "print(\"\\nOutput:\")\n",
    "print(result)"
   ]
  },
  {
   "cell_type": "markdown",
   "id": "8ff06af1-4e8a-45b7-9a7c-019003cabfda",
   "metadata": {},
   "source": [
    "\n",
    "String Operations"
   ]
  },
  {
   "cell_type": "markdown",
   "id": "900434cc-0722-4785-a046-c55563801dc6",
   "metadata": {},
   "source": [
    "\n",
    "56. Count occurrences of a substring in a string array."
   ]
  },
  {
   "cell_type": "code",
   "execution_count": 164,
   "id": "7b8450b5-93c4-4218-8c4a-9b3c441ee981",
   "metadata": {},
   "outputs": [
    {
     "name": "stdout",
     "output_type": "stream",
     "text": [
      "\n",
      "Output:\n",
      "[1 1 1]\n"
     ]
    }
   ],
   "source": [
    "arr = np.array([\"apple pie\", \"banana pie\", \"pie crust\"])\n",
    "result = np.char.count(arr, \"pie\")\n",
    "print(\"\\nOutput:\")\n",
    "print(result)"
   ]
  },
  {
   "cell_type": "markdown",
   "id": "9bdf2b39-6d22-4d30-bb5b-f1830bfc5bba",
   "metadata": {},
   "source": [
    "\n",
    "57. Extract uppercase characters from a string array."
   ]
  },
  {
   "cell_type": "code",
   "execution_count": 166,
   "id": "17d68b55-dff2-4ef4-9996-3a6c89d52682",
   "metadata": {},
   "outputs": [
    {
     "name": "stdout",
     "output_type": "stream",
     "text": [
      "\n",
      "Output:\n",
      "['HLL' 'WOLD' 'PTO']\n"
     ]
    }
   ],
   "source": [
    "arr = np.array([\"HeLLo\", \"WOrLD\", \"PyThOn\"])\n",
    "result = np.char.array([ ''.join([ch for ch in s if ch.isupper()]) for s in arr ])\n",
    "print(\"\\nOutput:\")\n",
    "print(result)"
   ]
  },
  {
   "cell_type": "markdown",
   "id": "c8f41496-1965-4979-b6d6-d853dc1ba873",
   "metadata": {},
   "source": [
    "\n",
    "58. Replace substring occurrences with another string in a string array."
   ]
  },
  {
   "cell_type": "code",
   "execution_count": 168,
   "id": "9062108f-773e-4ef8-86fe-5da4cf58a0df",
   "metadata": {},
   "outputs": [
    {
     "name": "stdout",
     "output_type": "stream",
     "text": [
      "\n",
      "Output:\n",
      "['hello universe' 'universe peace' 'brave new universe']\n"
     ]
    }
   ],
   "source": [
    "arr = np.array([\"hello world\", \"world peace\", \"brave new world\"])\n",
    "result = np.char.replace(arr, \"world\", \"universe\")\n",
    "print(\"\\nOutput:\")\n",
    "print(result)"
   ]
  },
  {
   "cell_type": "markdown",
   "id": "29d82bbd-7bcf-4ce5-96da-82af88b98892",
   "metadata": {},
   "source": [
    "\n",
    "59. Concatenate strings in a NumPy array element-wise."
   ]
  },
  {
   "cell_type": "code",
   "execution_count": 170,
   "id": "c0d67eb0-021c-43d3-ab69-b0bc7e95685f",
   "metadata": {},
   "outputs": [
    {
     "name": "stdout",
     "output_type": "stream",
     "text": [
      "\n",
      "Output:\n",
      "['good morning' 'great job' 'awesome day']\n"
     ]
    }
   ],
   "source": [
    "arr1 = np.array([\"good \", \"great \", \"awesome \"])\n",
    "arr2 = np.array([\"morning\", \"job\", \"day\"])\n",
    "result = np.char.add(arr1, arr2)\n",
    "print(\"\\nOutput:\")\n",
    "print(result)"
   ]
  },
  {
   "cell_type": "markdown",
   "id": "df4bb173-ba18-4342-a4c7-8dd7ec065431",
   "metadata": {},
   "source": [
    "\n",
    "60. Find the length of the longest string in a string array.\n"
   ]
  },
  {
   "cell_type": "code",
   "execution_count": 172,
   "id": "c9c4f19e-34e9-42c3-a64a-41d9e2c977da",
   "metadata": {},
   "outputs": [
    {
     "name": "stdout",
     "output_type": "stream",
     "text": [
      "\n",
      "Output:\n",
      "17\n"
     ]
    }
   ],
   "source": [
    "arr = np.array([\"short\", \"longeststringhere\", \"medium\"])\n",
    "result = np.max(np.char.str_len(arr))\n",
    "print(\"\\nOutput:\")\n",
    "print(result)"
   ]
  },
  {
   "cell_type": "markdown",
   "id": "96eab05a-81ed-4e4c-8539-9655e14d8068",
   "metadata": {},
   "source": [
    "Descriptive Statistics"
   ]
  },
  {
   "cell_type": "markdown",
   "id": "481c3332-3f38-4335-b697-fc9f7767d516",
   "metadata": {},
   "source": [
    "61. Generate 100 random integers (1–1000) and compute mean, median, variance, and\n",
    "std deviation.\n"
   ]
  },
  {
   "cell_type": "code",
   "execution_count": 190,
   "id": "4a10c0ff-60ca-4e1b-8ded-29adf95fed5c",
   "metadata": {},
   "outputs": [
    {
     "name": "stdout",
     "output_type": "stream",
     "text": [
      "\n",
      "Output:\n",
      "Mean: 580.76\n",
      "Median: 642.5\n",
      "Variance: 88458.78239999998\n",
      "Std Deviation: 297.4202118215909\n"
     ]
    }
   ],
   "source": [
    "arr = np.random.randint(1, 1001, 100)\n",
    "mean = np.mean(arr)\n",
    "median = np.median(arr)\n",
    "var = np.var(arr)\n",
    "std = np.std(arr)\n",
    "print(\"\\nOutput:\")\n",
    "print(\"Mean:\", mean)\n",
    "print(\"Median:\", median)\n",
    "print(\"Variance:\", var)\n",
    "print(\"Std Deviation:\", std)"
   ]
  },
  {
   "cell_type": "markdown",
   "id": "2ad35a39-d796-4097-8d15-0191f083cf9b",
   "metadata": {},
   "source": [
    "\n",
    "62. Generate 50 random numbers (1–100) and compute the 25th and 75th percentiles."
   ]
  },
  {
   "cell_type": "code",
   "execution_count": 192,
   "id": "66ecbc4b-e3f9-482f-81ae-412186153596",
   "metadata": {},
   "outputs": [
    {
     "name": "stdout",
     "output_type": "stream",
     "text": [
      "\n",
      "Output:\n",
      "25th Percentile: 29.5\n",
      "75th Percentile: 87.5\n"
     ]
    }
   ],
   "source": [
    "arr = np.random.randint(1, 101, 50)\n",
    "p25 = np.percentile(arr, 25)\n",
    "p75 = np.percentile(arr, 75)\n",
    "print(\"\\nOutput:\")\n",
    "print(\"25th Percentile:\", p25)\n",
    "print(\"75th Percentile:\", p75)"
   ]
  },
  {
   "cell_type": "markdown",
   "id": "e91ffaa7-32b8-4a2c-b3bd-88d8edb73763",
   "metadata": {},
   "source": [
    "\n",
    "63. Compute correlation coefficient between two arrays using np.corrcoef."
   ]
  },
  {
   "cell_type": "code",
   "execution_count": 194,
   "id": "9cd1ac68-b394-4a48-bc19-c6357ebf0122",
   "metadata": {},
   "outputs": [
    {
     "name": "stdout",
     "output_type": "stream",
     "text": [
      "\n",
      "Output:\n",
      "[[1.         0.99589321]\n",
      " [0.99589321 1.        ]]\n"
     ]
    }
   ],
   "source": [
    "x = np.array([10, 20, 30, 40, 50])\n",
    "y = np.array([15, 25, 35, 45, 60])\n",
    "result = np.corrcoef(x, y)\n",
    "print(\"\\nOutput:\")\n",
    "print(result)"
   ]
  },
  {
   "cell_type": "markdown",
   "id": "c73e98f7-cd8b-4eb2-a244-9615d2054610",
   "metadata": {},
   "source": [
    "\n",
    "64. Perform matrix multiplication using np.dot."
   ]
  },
  {
   "cell_type": "code",
   "execution_count": 196,
   "id": "623a9bea-03e9-473b-b889-746a2628790b",
   "metadata": {},
   "outputs": [
    {
     "name": "stdout",
     "output_type": "stream",
     "text": [
      "\n",
      "Output:\n",
      "[[19 22]\n",
      " [43 50]]\n"
     ]
    }
   ],
   "source": [
    "A = np.array([[1, 2], [3, 4]])\n",
    "B = np.array([[5, 6], [7, 8]])\n",
    "result = np.dot(A, B)\n",
    "print(\"\\nOutput:\")\n",
    "print(result)"
   ]
  },
  {
   "cell_type": "markdown",
   "id": "941ddf4c-a58e-4b7e-ba04-a47ae8eb4ecc",
   "metadata": {},
   "source": [
    "\n",
    "65. Compute the 10th, 50th, and 90th percentiles and quartiles for an array of 50\n",
    "integers."
   ]
  },
  {
   "cell_type": "code",
   "execution_count": 198,
   "id": "65962b03-1e92-456f-a5b3-90af2a10c4f6",
   "metadata": {},
   "outputs": [
    {
     "name": "stdout",
     "output_type": "stream",
     "text": [
      "\n",
      "Output:\n",
      "10th: 10.9\n",
      "50th: 50.5\n",
      "90th: 90.0\n",
      "Q1: 33.25\n",
      "Q3: 76.0\n"
     ]
    }
   ],
   "source": [
    "arr = np.random.randint(1, 101, 50)\n",
    "p10 = np.percentile(arr, 10)\n",
    "p50 = np.percentile(arr, 50)\n",
    "p90 = np.percentile(arr, 90)\n",
    "q1 = np.percentile(arr, 25)\n",
    "q3 = np.percentile(arr, 75)\n",
    "print(\"\\nOutput:\")\n",
    "print(\"10th:\", p10)\n",
    "print(\"50th:\", p50)\n",
    "print(\"90th:\", p90)\n",
    "print(\"Q1:\", q1)\n",
    "print(\"Q3:\", q3)"
   ]
  },
  {
   "cell_type": "markdown",
   "id": "45305912-2e1a-4319-9280-89ce11d747f3",
   "metadata": {},
   "source": [
    "\n",
    "Search and Sort"
   ]
  },
  {
   "cell_type": "markdown",
   "id": "a530ec8a-a145-4049-9847-33f7ba08a7f2",
   "metadata": {},
   "source": [
    "\n",
    "66. Find index of a specific element in an array."
   ]
  },
  {
   "cell_type": "code",
   "execution_count": 200,
   "id": "bfb3e4ea-e9b7-471c-a314-4a0e4f940c54",
   "metadata": {},
   "outputs": [
    {
     "name": "stdin",
     "output_type": "stream",
     "text": [
      "Enter value to find index of:  40\n"
     ]
    },
    {
     "name": "stdout",
     "output_type": "stream",
     "text": [
      "\n",
      "Output:\n",
      "[3]\n"
     ]
    }
   ],
   "source": [
    "arr = np.array([10, 20, 30, 40, 50])\n",
    "val = int(input(\"Enter value to find index of: \"))\n",
    "result = np.where(arr == val)[0]\n",
    "print(\"\\nOutput:\")\n",
    "print(result)"
   ]
  },
  {
   "cell_type": "markdown",
   "id": "9ee60a8f-f646-4712-9538-b86e2bc63d98",
   "metadata": {},
   "source": [
    "\n",
    "67. Sort a random array in ascending order."
   ]
  },
  {
   "cell_type": "code",
   "execution_count": 202,
   "id": "7361f927-69a0-490b-9b41-8d0422b04917",
   "metadata": {},
   "outputs": [
    {
     "name": "stdout",
     "output_type": "stream",
     "text": [
      "\n",
      "Output:\n",
      "[14 14 45 57 60 71 76 77 80 81]\n"
     ]
    }
   ],
   "source": [
    "arr = np.random.randint(1, 101, 10)\n",
    "sorted_arr = np.sort(arr)\n",
    "print(\"\\nOutput:\")\n",
    "print(sorted_arr)"
   ]
  },
  {
   "cell_type": "markdown",
   "id": "c57e176a-7de7-4d20-ba14-9f2daa61b52c",
   "metadata": {},
   "source": [
    "\n",
    "68. Filter elements greater than 20."
   ]
  },
  {
   "cell_type": "code",
   "execution_count": 204,
   "id": "99ed58c4-5ef7-4b8c-8ad3-e524dbbcdc1b",
   "metadata": {},
   "outputs": [
    {
     "name": "stdout",
     "output_type": "stream",
     "text": [
      "\n",
      "Output:\n",
      "[25 30 50]\n"
     ]
    }
   ],
   "source": [
    "arr = np.array([10, 25, 30, 5, 50])\n",
    "result = arr[arr > 20]\n",
    "print(\"\\nOutput:\")\n",
    "print(result)"
   ]
  },
  {
   "cell_type": "markdown",
   "id": "c16d48f3-9951-44de-9eaa-e9dbd1504902",
   "metadata": {},
   "source": [
    "\n",
    "69. Filter elements divisible by 3."
   ]
  },
  {
   "cell_type": "code",
   "execution_count": 206,
   "id": "261e2cb4-c244-4f36-bdd5-48911150cf0a",
   "metadata": {},
   "outputs": [
    {
     "name": "stdout",
     "output_type": "stream",
     "text": [
      "\n",
      "Output:\n",
      "[ 9 12 15]\n"
     ]
    }
   ],
   "source": [
    "arr = np.array([9, 10, 12, 14, 15])\n",
    "result = arr[arr % 3 == 0]\n",
    "print(\"\\nOutput:\")\n",
    "print(result)"
   ]
  },
  {
   "cell_type": "markdown",
   "id": "ed2f0fbb-02c8-4296-884d-3f46899b2149",
   "metadata": {},
   "source": [
    "\n",
    "70. Filter elements between 20 and 40 (inclusive)."
   ]
  },
  {
   "cell_type": "code",
   "execution_count": 208,
   "id": "eb9d0039-1611-4a2c-bf1a-7e5e0ffc42da",
   "metadata": {},
   "outputs": [
    {
     "name": "stdout",
     "output_type": "stream",
     "text": [
      "\n",
      "Output:\n",
      "[20 25 30 40]\n"
     ]
    }
   ],
   "source": [
    "arr = np.array([15, 20, 25, 30, 40, 45])\n",
    "result = arr[(arr >= 20) & (arr <= 40)]\n",
    "print(\"\\nOutput:\")\n",
    "print(result)"
   ]
  },
  {
   "cell_type": "markdown",
   "id": "0029da20-9ac1-4791-ae91-be5b0582a4b9",
   "metadata": {},
   "source": [
    "\n",
    "Byte Order & Swapping"
   ]
  },
  {
   "cell_type": "markdown",
   "id": "f75db342-0d11-4002-aa53-698d94dc7fba",
   "metadata": {},
   "source": [
    "\n",
    "71. Check byte order of a NumPy array using dtype.byteorder."
   ]
  },
  {
   "cell_type": "code",
   "execution_count": 212,
   "id": "b405bb85-2ba1-4213-aa2a-ce2614f99dc3",
   "metadata": {},
   "outputs": [
    {
     "name": "stdout",
     "output_type": "stream",
     "text": [
      "\n",
      "Output:\n",
      "=\n"
     ]
    }
   ],
   "source": [
    "arr = np.array([1, 2, 3], dtype=np.int16)\n",
    "print(\"\\nOutput:\")\n",
    "print(arr.dtype.byteorder)"
   ]
  },
  {
   "cell_type": "markdown",
   "id": "ba57229b-8b01-42a7-b44c-27e874e0f41a",
   "metadata": {},
   "source": [
    "\n",
    "72. Perform in-place byte swapping using byteswap()."
   ]
  },
  {
   "cell_type": "code",
   "execution_count": 218,
   "id": "05f5d508-44ce-4744-8523-7ad3da66324d",
   "metadata": {},
   "outputs": [
    {
     "name": "stdout",
     "output_type": "stream",
     "text": [
      "\n",
      "Output:\n",
      "[256   1   2]\n"
     ]
    }
   ],
   "source": [
    "arr = np.array([1, 256, 512], dtype=np.int16)\n",
    "arr.byteswap(True)\n",
    "print(\"\\nOutput:\")\n",
    "print(arr)"
   ]
  }
 ],
 "metadata": {
  "kernelspec": {
   "display_name": "Python 3 (ipykernel)",
   "language": "python",
   "name": "python3"
  },
  "language_info": {
   "codemirror_mode": {
    "name": "ipython",
    "version": 3
   },
   "file_extension": ".py",
   "mimetype": "text/x-python",
   "name": "python",
   "nbconvert_exporter": "python",
   "pygments_lexer": "ipython3",
   "version": "3.12.7"
  }
 },
 "nbformat": 4,
 "nbformat_minor": 5
}
