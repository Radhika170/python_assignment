{
 "cells": [
  {
   "cell_type": "markdown",
   "id": "8e8bf6c9-e824-41f9-89cc-6236e3f5624f",
   "metadata": {},
   "source": [
    "🧮 Section A: Data Types & Control Flow (Q1–Q15)"
   ]
  },
  {
   "cell_type": "markdown",
   "id": "51234d61-d10d-4499-bca0-df7d0c83e469",
   "metadata": {},
   "source": [
    "1. Write a Python program to find the second largest number in\n",
    "a list without using the sort() method."
   ]
  },
  {
   "cell_type": "code",
   "execution_count": null,
   "id": "31259a8f-a760-4262-a767-d7fcb061ae67",
   "metadata": {},
   "outputs": [],
   "source": [
    "input_str = input(\"Enter numbers separated by spaces: \")\n",
    "nums = list(map(int, input_str.split()))\n",
    "if len(nums) < 2:\n",
    "    print(\"The list doesn't have enough elements.\")\n",
    "else:\n",
    "    largest = second_largest = float('-inf')\n",
    "    for num in nums:\n",
    "        if num > largest:\n",
    "            second_largest = largest\n",
    "            largest = num\n",
    "        elif largest > num > second_largest:\n",
    "            second_largest = num\n",
    "\n",
    "    if second_largest == float('-inf'):\n",
    "        print(\"There is no second distinct largest number.\")\n",
    "    else:\n",
    "        print(\"Second largest number is:\", second_largest)"
   ]
  },
  {
   "cell_type": "markdown",
   "id": "ceb4bae3-51e4-4088-a608-d324fd4a8c3e",
   "metadata": {},
   "source": [
    "2. Remove duplicates from a list without using set() and\n",
    "return it in sorted order."
   ]
  },
  {
   "cell_type": "code",
   "execution_count": 17,
   "id": "e7902194-e851-4b81-a28f-fd5fce728774",
   "metadata": {},
   "outputs": [
    {
     "name": "stdin",
     "output_type": "stream",
     "text": [
      "Enter numbers separated by spaces:  -12 -15 -12 -53 -56\n"
     ]
    },
    {
     "name": "stdout",
     "output_type": "stream",
     "text": [
      "Sorted list without duplicates: [-56, -53, -15, -12]\n"
     ]
    }
   ],
   "source": [
    "input_list = list(map(int, input(\"Enter numbers separated by spaces: \").split()))\n",
    "unique_list = []\n",
    "for num in input_list:\n",
    "    if num not in unique_list:\n",
    "        unique_list.append(num)\n",
    "for i in range(len(unique_list)):\n",
    "    for j in range(i + 1, len(unique_list)):\n",
    "        if unique_list[i] > unique_list[j]:\n",
    "            unique_list[i], unique_list[j] = unique_list[j], unique_list[i]\n",
    "print(\"Sorted list without duplicates:\", unique_list)"
   ]
  },
  {
   "cell_type": "markdown",
   "id": "f2027127-f3d5-402a-89a7-42a3945641e5",
   "metadata": {},
   "source": [
    "3. Find the sum and average of a list of numbers."
   ]
  },
  {
   "cell_type": "code",
   "execution_count": 20,
   "id": "757cf4cd-d919-4b5b-8865-747c460cafee",
   "metadata": {},
   "outputs": [
    {
     "name": "stdin",
     "output_type": "stream",
     "text": [
      "Enter numbers separated by spaces:  2 4 6 8 10\n"
     ]
    },
    {
     "name": "stdout",
     "output_type": "stream",
     "text": [
      "Sum: 30.0\n",
      "Average: 6.0\n"
     ]
    }
   ],
   "source": [
    "numbers = list(map(float, input(\"Enter numbers separated by spaces: \").split()))\n",
    "if len(numbers) == 0:\n",
    "    print(\"No numbers entered.\")\n",
    "else:\n",
    "    total = 0\n",
    "    for num in numbers:\n",
    "        total += num\n",
    "    average = total / len(numbers)\n",
    "    print(\"Sum:\", total)\n",
    "    print(\"Average:\", average)"
   ]
  },
  {
   "cell_type": "markdown",
   "id": "d1768c81-14c2-433b-a854-be25597b9b62",
   "metadata": {},
   "source": [
    "4. Create a program to check if a number is prime."
   ]
  },
  {
   "cell_type": "code",
   "execution_count": 25,
   "id": "755ecc48-63a8-413e-b0b6-9559a0b43bbd",
   "metadata": {},
   "outputs": [
    {
     "name": "stdin",
     "output_type": "stream",
     "text": [
      "Enter a number:  11\n"
     ]
    },
    {
     "name": "stdout",
     "output_type": "stream",
     "text": [
      "11 is a prime number.\n"
     ]
    }
   ],
   "source": [
    "num = int(input(\"Enter a number: \"))\n",
    "if num <= 1:\n",
    "    print(num, \"is not a prime number.\")\n",
    "else:\n",
    "    is_prime = True\n",
    "    for i in range(2, int(num**0.5) + 1):\n",
    "        if num % i == 0:\n",
    "            is_prime = False\n",
    "            break\n",
    "    if is_prime:\n",
    "        print(num, \"is a prime number.\")\n",
    "    else:\n",
    "        print(num, \"is not a prime number.\")\n"
   ]
  },
  {
   "cell_type": "markdown",
   "id": "746fad24-2532-4bd6-a2ec-0972e7689506",
   "metadata": {},
   "source": [
    "5. Count the number of vowels, consonants, digits, and special\n",
    "characters in a given string."
   ]
  },
  {
   "cell_type": "code",
   "execution_count": 30,
   "id": "d21c275b-ffcf-4e25-b4e5-bb3e9afe5b3f",
   "metadata": {},
   "outputs": [
    {
     "name": "stdin",
     "output_type": "stream",
     "text": [
      "Enter a string:  Amit Chahar 12@\n"
     ]
    },
    {
     "name": "stdout",
     "output_type": "stream",
     "text": [
      "Vowels: 4\n",
      "Consonants: 6\n",
      "Digits: 2\n",
      "Special characters: 1\n"
     ]
    }
   ],
   "source": [
    "text = input(\"Enter a string: \")\n",
    "vowels = consonants = digits = special_chars = 0\n",
    "for char in text:\n",
    "    if char.isalpha():\n",
    "        if char.lower() in 'aeiou':\n",
    "            vowels += 1\n",
    "        else:\n",
    "            consonants += 1\n",
    "    elif char.isdigit():\n",
    "        digits += 1\n",
    "    elif not char.isspace():\n",
    "        special_chars += 1\n",
    "print(\"Vowels:\", vowels)\n",
    "print(\"Consonants:\", consonants)\n",
    "print(\"Digits:\", digits)\n",
    "print(\"Special characters:\", special_chars)"
   ]
  },
  {
   "cell_type": "markdown",
   "id": "f05184ef-b8f9-4ea0-ac8c-4451b0b489f4",
   "metadata": {},
   "source": [
    "6. Print all even numbers between 1 and 100 using a for loop."
   ]
  },
  {
   "cell_type": "code",
   "execution_count": 34,
   "id": "9f2c91dd-e92f-40d6-8472-bef237758721",
   "metadata": {},
   "outputs": [
    {
     "name": "stdout",
     "output_type": "stream",
     "text": [
      "2 4 6 8 10 12 14 16 18 20 22 24 26 28 30 32 34 36 38 40 42 44 46 48 50 52 54 56 58 60 62 64 66 68 70 72 74 76 78 80 82 84 86 88 90 92 94 96 98 100 "
     ]
    }
   ],
   "source": [
    "for number in range(2, 101, 2):\n",
    "    print(number, end=' ')"
   ]
  },
  {
   "cell_type": "markdown",
   "id": "9a0a8dd5-9fa5-4065-85ed-3fca3e7e1ed6",
   "metadata": {},
   "source": [
    "7. Write a program to print the multiplication table of a number\n",
    "entered by the user."
   ]
  },
  {
   "cell_type": "code",
   "execution_count": 37,
   "id": "973824e4-0c44-4344-a186-d654405945dd",
   "metadata": {},
   "outputs": [
    {
     "name": "stdin",
     "output_type": "stream",
     "text": [
      "Enter a number:  9\n"
     ]
    },
    {
     "name": "stdout",
     "output_type": "stream",
     "text": [
      "9 x 1 = 9\n",
      "9 x 2 = 18\n",
      "9 x 3 = 27\n",
      "9 x 4 = 36\n",
      "9 x 5 = 45\n",
      "9 x 6 = 54\n",
      "9 x 7 = 63\n",
      "9 x 8 = 72\n",
      "9 x 9 = 81\n",
      "9 x 10 = 90\n"
     ]
    }
   ],
   "source": [
    "number = int(input(\"Enter a number: \"))\n",
    "\n",
    "for i in range(1, 11):\n",
    "    print(f\"{number} x {i} = {number * i}\")"
   ]
  },
  {
   "cell_type": "markdown",
   "id": "c139a068-7cab-4c9a-a2ff-276ba2922686",
   "metadata": {},
   "source": [
    "8. Create a list of numbers from 1 to 100 that are divisible by\n",
    "both 3 and 5."
   ]
  },
  {
   "cell_type": "code",
   "execution_count": 40,
   "id": "6facd8d4-0c5b-4922-aa81-d0244efde024",
   "metadata": {},
   "outputs": [
    {
     "name": "stdout",
     "output_type": "stream",
     "text": [
      "Numbers divisible by both 3 and 5: [15, 30, 45, 60, 75, 90]\n"
     ]
    }
   ],
   "source": [
    "divisible_by_3_and_5 = []\n",
    "\n",
    "for number in range(1, 101):\n",
    "    if number % 3 == 0 and number % 5 == 0:\n",
    "        divisible_by_3_and_5.append(number)\n",
    "\n",
    "print(\"Numbers divisible by both 3 and 5:\", divisible_by_3_and_5)"
   ]
  },
  {
   "cell_type": "markdown",
   "id": "43939f94-4c3d-4380-9e2b-b2f075096a92",
   "metadata": {},
   "source": [
    "9. Take a number input and print its reverse."
   ]
  },
  {
   "cell_type": "code",
   "execution_count": 43,
   "id": "09e48b6d-75e1-48d2-8377-7f543f0c5738",
   "metadata": {},
   "outputs": [
    {
     "name": "stdin",
     "output_type": "stream",
     "text": [
      "Enter a number:  54\n"
     ]
    },
    {
     "name": "stdout",
     "output_type": "stream",
     "text": [
      "Reversed number: 45\n"
     ]
    }
   ],
   "source": [
    "number = input(\"Enter a number: \")\n",
    "reverse = number[::-1]\n",
    "print(\"Reversed number:\", reverse)"
   ]
  },
  {
   "cell_type": "markdown",
   "id": "d9687cbd-9ea3-4a61-a08a-ec352253724d",
   "metadata": {},
   "source": [
    "10. Count the frequency of each character in a string and\n",
    "store it in a dictionary."
   ]
  },
  {
   "cell_type": "code",
   "execution_count": 46,
   "id": "4dd1e5af-3b70-4cad-a3bf-232b829758f1",
   "metadata": {},
   "outputs": [
    {
     "name": "stdin",
     "output_type": "stream",
     "text": [
      "Enter a string:  Good to know\n"
     ]
    },
    {
     "name": "stdout",
     "output_type": "stream",
     "text": [
      "Character frequencies: {'G': 1, 'o': 4, 'd': 1, ' ': 2, 't': 1, 'k': 1, 'n': 1, 'w': 1}\n"
     ]
    }
   ],
   "source": [
    "text = input(\"Enter a string: \")\n",
    "frequency = {}\n",
    "for char in text:\n",
    "    if char in frequency:\n",
    "        frequency[char] += 1\n",
    "    else:\n",
    "        frequency[char] = 1\n",
    "print(\"Character frequencies:\", frequency)"
   ]
  },
  {
   "cell_type": "markdown",
   "id": "f74d60e2-2abb-4051-8085-c355b6655291",
   "metadata": {},
   "source": [
    "11. Write a Python program to generate the first n prime\n",
    "numbers."
   ]
  },
  {
   "cell_type": "code",
   "execution_count": 49,
   "id": "105cfa98-bded-4338-a98a-3d078e44abc1",
   "metadata": {},
   "outputs": [
    {
     "name": "stdin",
     "output_type": "stream",
     "text": [
      "Enter the number of prime numbers to generate:  20\n"
     ]
    },
    {
     "name": "stdout",
     "output_type": "stream",
     "text": [
      "2 3 5 7 11 13 17 19 23 29 31 37 41 43 47 53 59 61 67 71 "
     ]
    }
   ],
   "source": [
    "n = int(input(\"Enter the number of prime numbers to generate: \"))\n",
    "count = 0\n",
    "num = 2\n",
    "while count < n:\n",
    "    is_prime = True\n",
    "    for i in range(2, int(num**0.5) + 1):\n",
    "        if num % i == 0:\n",
    "            is_prime = False\n",
    "            break\n",
    "    if is_prime:\n",
    "        print(num, end=' ')\n",
    "        count += 1\n",
    "    num += 1"
   ]
  },
  {
   "cell_type": "markdown",
   "id": "0daecff1-866e-4f5d-9a3f-c90988ea6652",
   "metadata": {},
   "source": [
    "12. Check whether a number is a palindrome or not."
   ]
  },
  {
   "cell_type": "code",
   "execution_count": 54,
   "id": "4d319b36-339a-4256-8ac0-c4ff023b24c0",
   "metadata": {},
   "outputs": [
    {
     "name": "stdin",
     "output_type": "stream",
     "text": [
      "Enter a number:  231\n"
     ]
    },
    {
     "name": "stdout",
     "output_type": "stream",
     "text": [
      "231 is not a palindrome.\n"
     ]
    }
   ],
   "source": [
    "number = input(\"Enter a number: \")\n",
    "if number == number[::-1]:\n",
    "    print(number, \"is a palindrome.\")\n",
    "else:\n",
    "    print(number, \"is not a palindrome.\")"
   ]
  },
  {
   "cell_type": "markdown",
   "id": "ed716eca-8b35-4eab-aa0b-ae4fdc7c5317",
   "metadata": {},
   "source": [
    "13. Count how many times a specific element appears in a\n",
    "list."
   ]
  },
  {
   "cell_type": "code",
   "execution_count": 57,
   "id": "65e6ab58-cacf-43cf-882d-587531ae7fb6",
   "metadata": {},
   "outputs": [
    {
     "name": "stdin",
     "output_type": "stream",
     "text": [
      "Enter list elements separated by spaces:  1 2 5 4 3 1 2 4 2 8 9 7 2 7 2 9 2\n",
      "Enter the element to count:  2\n"
     ]
    },
    {
     "name": "stdout",
     "output_type": "stream",
     "text": [
      "The element '2' appears 6 times in the list.\n"
     ]
    }
   ],
   "source": [
    "elements = input(\"Enter list elements separated by spaces: \").split()\n",
    "target = input(\"Enter the element to count: \")\n",
    "count = 0\n",
    "for item in elements:\n",
    "    if item == target:\n",
    "        count += 1\n",
    "print(f\"The element '{target}' appears {count} times in the list.\")"
   ]
  },
  {
   "cell_type": "markdown",
   "id": "7f2eb65f-03e2-47bf-adf8-e507a299f618",
   "metadata": {},
   "source": [
    "14. Create a list of squares of even numbers between 1 and 50."
   ]
  },
  {
   "cell_type": "code",
   "execution_count": 62,
   "id": "f0f7fb72-53ca-4178-aa88-3b2f2b9bef1b",
   "metadata": {},
   "outputs": [
    {
     "name": "stdout",
     "output_type": "stream",
     "text": [
      "Squares of even numbers between 1 and 50: [4, 16, 36, 64, 100, 144, 196, 256, 324, 400, 484, 576, 676, 784, 900, 1024, 1156, 1296, 1444, 1600, 1764, 1936, 2116, 2304, 2500]\n"
     ]
    }
   ],
   "source": [
    "squares = []\n",
    "for number in range(1, 51):\n",
    "    if number % 2 == 0:\n",
    "        squares.append(number ** 2)\n",
    "print(\"Squares of even numbers between 1 and 50:\", squares)"
   ]
  },
  {
   "cell_type": "markdown",
   "id": "53a1c21b-a391-4f1a-83fa-cc0a7d6900e6",
   "metadata": {},
   "source": [
    "15. Accept a list and return a new list with only unique\n",
    "elements (preserve order)."
   ]
  },
  {
   "cell_type": "code",
   "execution_count": 65,
   "id": "bb8b17bf-fc8b-49c3-86c6-4906d8dd6e27",
   "metadata": {},
   "outputs": [
    {
     "name": "stdin",
     "output_type": "stream",
     "text": [
      "Enter list elements separated by spaces:  apple banana apple orange guava apple pineapple\n"
     ]
    },
    {
     "name": "stdout",
     "output_type": "stream",
     "text": [
      "List with unique elements: ['apple', 'banana', 'orange', 'guava', 'pineapple']\n"
     ]
    }
   ],
   "source": [
    "input_list = input(\"Enter list elements separated by spaces: \").split()\n",
    "unique_list = []\n",
    "for item in input_list:\n",
    "    if item not in unique_list:\n",
    "        unique_list.append(item)\n",
    "print(\"List with unique elements:\", unique_list)"
   ]
  },
  {
   "cell_type": "markdown",
   "id": "a4171281-f786-4898-a8a2-4c09b0f89033",
   "metadata": {},
   "source": [
    "🧠 Section B: Functions (Q16–Q30)"
   ]
  },
  {
   "cell_type": "markdown",
   "id": "5bb25414-f596-440c-95ca-2048b598bcaf",
   "metadata": {},
   "source": [
    "16. Write a function to check if a number is even or odd."
   ]
  },
  {
   "cell_type": "code",
   "execution_count": 141,
   "id": "0d031d63-3245-4f11-9f55-d448b2bace90",
   "metadata": {},
   "outputs": [
    {
     "name": "stdin",
     "output_type": "stream",
     "text": [
      "Enter a number:  54\n"
     ]
    },
    {
     "name": "stdout",
     "output_type": "stream",
     "text": [
      "The number is: Even\n"
     ]
    }
   ],
   "source": [
    "n = int(input(\"Enter a number: \"))\n",
    "\n",
    "def is_even_or_odd(n):\n",
    "    if n % 2 == 0:\n",
    "        return \"Even\"\n",
    "    else:\n",
    "        return \"Odd\"\n",
    "print(\"The number is:\", is_even_or_odd(n))"
   ]
  },
  {
   "cell_type": "markdown",
   "id": "ef33b900-1903-4edb-97e9-c78e0c66a9ac",
   "metadata": {},
   "source": [
    "17. Create a function that takes a list of numbers and returns\n",
    "their cumulative sum.\n"
   ]
  },
  {
   "cell_type": "code",
   "execution_count": 143,
   "id": "dafd8d7f-79a6-4ca2-bbae-6d0858489608",
   "metadata": {},
   "outputs": [
    {
     "name": "stdin",
     "output_type": "stream",
     "text": [
      "Enter numbers separated by space:  12 23 34\n"
     ]
    },
    {
     "name": "stdout",
     "output_type": "stream",
     "text": [
      "Cumulative sum: [12, 35, 69]\n"
     ]
    }
   ],
   "source": [
    "lst = list(map(int, input(\"Enter numbers separated by space: \").split()))\n",
    "def cumulative_sum(lst):\n",
    "    total = 0\n",
    "    result = []\n",
    "    for num in lst:\n",
    "        total += num\n",
    "        result.append(total)\n",
    "    return result\n",
    "print(\"Cumulative sum:\", cumulative_sum(lst))"
   ]
  },
  {
   "cell_type": "markdown",
   "id": "680c6048-f4e8-4f3f-90ee-2dbc675514c4",
   "metadata": {},
   "source": [
    "18. Write a recursive function to find the factorial of a number.\n"
   ]
  },
  {
   "cell_type": "code",
   "execution_count": 123,
   "id": "28d5243e-eab3-4248-beb7-27ab276d9261",
   "metadata": {},
   "outputs": [
    {
     "name": "stdin",
     "output_type": "stream",
     "text": [
      "Enter a number:  5\n"
     ]
    },
    {
     "name": "stdout",
     "output_type": "stream",
     "text": [
      "Factorial: 120\n"
     ]
    }
   ],
   "source": [
    "n = int(input(\"Enter a number: \"))\n",
    "\n",
    "def factorial(n):\n",
    "    if n == 0 or n == 1:\n",
    "        return 1\n",
    "    return n * factorial(n - 1)\n",
    "\n",
    "print(\"Factorial:\", factorial(n))"
   ]
  },
  {
   "cell_type": "markdown",
   "id": "43571ddd-433b-470d-9124-c74664d0a901",
   "metadata": {},
   "source": [
    "19. Write a function to print the Fibonacci series up to n terms.\n"
   ]
  },
  {
   "cell_type": "code",
   "execution_count": 164,
   "id": "1ed012d8-bc28-4021-a9ce-daf8eed6d640",
   "metadata": {},
   "outputs": [
    {
     "name": "stdin",
     "output_type": "stream",
     "text": [
      "Enter number of terms:  10\n"
     ]
    },
    {
     "name": "stdout",
     "output_type": "stream",
     "text": [
      "0 1 1 2 3 5 8 13 21 34 "
     ]
    }
   ],
   "source": [
    "n = int(input(\"Enter number of terms: \"))\n",
    "\n",
    "def fibonacci_series(n, a=0, b=1, count=0):\n",
    "    if count < n:\n",
    "        print(a, end=\" \")\n",
    "        fibonacci_series(n, b, a + b, count + 1)\n",
    "\n",
    "fibonacci_series(n)"
   ]
  },
  {
   "cell_type": "markdown",
   "id": "f7c43a83-8f39-4b4e-9634-db64e644da9c",
   "metadata": {},
   "source": [
    "20. Define a function that checks if a given string is a\n",
    "palindrome."
   ]
  },
  {
   "cell_type": "code",
   "execution_count": 166,
   "id": "fa1f3898-305f-43d1-bf47-d5b7b35efcc5",
   "metadata": {},
   "outputs": [
    {
     "name": "stdin",
     "output_type": "stream",
     "text": [
      "Enter a string:  madam\n"
     ]
    },
    {
     "name": "stdout",
     "output_type": "stream",
     "text": [
      "Palindrome: True\n"
     ]
    }
   ],
   "source": [
    "s = input(\"Enter a string: \")\n",
    "def is_palindrome(s):\n",
    "    return s == s[::-1]\n",
    "print(\"Palindrome:\", is_palindrome(s))"
   ]
  },
  {
   "cell_type": "markdown",
   "id": "b7a2d19e-3f30-4d30-9379-83a50de178e7",
   "metadata": {},
   "source": [
    "21. Create a function that returns the maximum and minimum\n",
    "elements from a list.\n"
   ]
  },
  {
   "cell_type": "code",
   "execution_count": 168,
   "id": "5cb92d7d-7ce2-41e2-a3b8-afd35a2ac136",
   "metadata": {},
   "outputs": [
    {
     "name": "stdin",
     "output_type": "stream",
     "text": [
      "Enter numbers separated by space:  21 24 35 2 35 65 \n"
     ]
    },
    {
     "name": "stdout",
     "output_type": "stream",
     "text": [
      "Minimum: 2\n",
      "Maximum: 65\n"
     ]
    }
   ],
   "source": [
    "lst = list(map(int, input(\"Enter numbers separated by space: \").split()))\n",
    "def find_min_max(lst):\n",
    "    return min(lst), max(lst)\n",
    "mn, mx = find_min_max(lst)\n",
    "print(\"Minimum:\", mn)\n",
    "print(\"Maximum:\", mx)"
   ]
  },
  {
   "cell_type": "markdown",
   "id": "44e4c7eb-bce6-40d8-9c83-44d33a54d495",
   "metadata": {},
   "source": [
    "22. Write a function to check whether a string is a pangram.\n"
   ]
  },
  {
   "cell_type": "code",
   "execution_count": 170,
   "id": "318c9c6e-e6a9-474c-b20b-01b6bffedb56",
   "metadata": {},
   "outputs": [
    {
     "name": "stdin",
     "output_type": "stream",
     "text": [
      "Enter a sentence:  The quick brown fox jumps over the lazy dog.\n"
     ]
    },
    {
     "name": "stdout",
     "output_type": "stream",
     "text": [
      "Pangram: True\n"
     ]
    }
   ],
   "source": [
    "import string\n",
    "s = input(\"Enter a sentence: \")\n",
    "def is_pangram(sentence):\n",
    "    alphabet = set(string.ascii_lowercase)\n",
    "    return alphabet.issubset(set(sentence.lower()))\n",
    "print(\"Pangram:\", is_pangram(s))"
   ]
  },
  {
   "cell_type": "markdown",
   "id": "7e6fa911-c2ca-4dc8-a55e-4c63ae2ce939",
   "metadata": {},
   "source": [
    "23. Create a function that finds and returns all prime numbers\n",
    "in a given range.\n"
   ]
  },
  {
   "cell_type": "code",
   "execution_count": 192,
   "id": "cc16fb2b-7e6f-46af-95ee-f09e6e159273",
   "metadata": {},
   "outputs": [
    {
     "name": "stdin",
     "output_type": "stream",
     "text": [
      "Enter start of range:  21\n",
      "Enter end of range:  85\n"
     ]
    },
    {
     "name": "stdout",
     "output_type": "stream",
     "text": [
      "Prime numbers: [23, 29, 31, 37, 41, 43, 47, 53, 59, 61, 67, 71, 73, 79, 83]\n"
     ]
    }
   ],
   "source": [
    "start = int(input(\"Enter start of range: \"))\n",
    "end = int(input(\"Enter end of range: \"))\n",
    "def is_prime(n, i=2):\n",
    "    if n <= 1:\n",
    "        return False\n",
    "    if i * i > n:\n",
    "        return True\n",
    "    if n % i == 0:\n",
    "        return False\n",
    "    return is_prime(n, i + 1)\n",
    "def find_primes(start, end):\n",
    "    primes = []\n",
    "    for num in range(start, end + 1):\n",
    "        if is_prime(num):\n",
    "            primes.append(num)\n",
    "    return primes\n",
    "print(\"Prime numbers:\", find_primes(start, end))"
   ]
  },
  {
   "cell_type": "markdown",
   "id": "447d9614-25c6-4535-b249-78abec8eb6e9",
   "metadata": {},
   "source": [
    "24. Write a function to return the number of uppercase and\n",
    "lowercase letters in a string."
   ]
  },
  {
   "cell_type": "code",
   "execution_count": 174,
   "id": "7f3a0688-b1c3-4a03-8587-7c53200f43dc",
   "metadata": {},
   "outputs": [
    {
     "name": "stdin",
     "output_type": "stream",
     "text": [
      "Enter a string:  Hello World I  am here Praveen Bhagour.\n"
     ]
    },
    {
     "name": "stdout",
     "output_type": "stream",
     "text": [
      "Uppercase letters: 5\n",
      "Lowercase letters: 26\n"
     ]
    }
   ],
   "source": [
    "s = input(\"Enter a string: \")\n",
    "def count_case(s):\n",
    "    upper = sum(1 for char in s if char.isupper())\n",
    "    lower = sum(1 for char in s if char.islower())\n",
    "    return upper, lower\n",
    "upper, lower = count_case(s)\n",
    "print(\"Uppercase letters:\", upper)\n",
    "print(\"Lowercase letters:\", lower)"
   ]
  },
  {
   "cell_type": "markdown",
   "id": "a7e2a7c4-88d9-4a59-b9a3-6692f0e6caae",
   "metadata": {},
   "source": [
    "25. Write a function to compute the sum of digits of a number."
   ]
  },
  {
   "cell_type": "code",
   "execution_count": 176,
   "id": "a75b40b3-fb68-4f64-8225-11451bff266e",
   "metadata": {},
   "outputs": [
    {
     "name": "stdin",
     "output_type": "stream",
     "text": [
      "Enter a number:  2456\n"
     ]
    },
    {
     "name": "stdout",
     "output_type": "stream",
     "text": [
      "Sum of digits: 17\n"
     ]
    }
   ],
   "source": [
    "n = int(input(\"Enter a number: \"))\n",
    "def sum_of_digits(n):\n",
    "    if n == 0:\n",
    "        return 0\n",
    "    return n % 10 + sum_of_digits(n // 10)\n",
    "print(\"Sum of digits:\", sum_of_digits(n))"
   ]
  },
  {
   "cell_type": "markdown",
   "id": "adcc41db-db90-4cb4-b3e1-171e6df5d941",
   "metadata": {},
   "source": [
    "26. Write a function to count words in a sentence."
   ]
  },
  {
   "cell_type": "code",
   "execution_count": 186,
   "id": "375b3ca1-8d96-4cc3-a779-de63918347c4",
   "metadata": {},
   "outputs": [
    {
     "name": "stdin",
     "output_type": "stream",
     "text": [
      "Enter a sentence:  Python is easy.\n"
     ]
    },
    {
     "name": "stdout",
     "output_type": "stream",
     "text": [
      "Word count: 3\n"
     ]
    }
   ],
   "source": [
    "s = input(\"Enter a sentence: \")\n",
    "def word_count(s):\n",
    "    return len(s.split())\n",
    "print(\"Word count:\", word_count(s))"
   ]
  },
  {
   "cell_type": "markdown",
   "id": "c827663f-329b-4bf5-9595-6b932f4a98f2",
   "metadata": {},
   "source": [
    "27. Create a function to remove all punctuation from a string."
   ]
  },
  {
   "cell_type": "code",
   "execution_count": 204,
   "id": "59e246ce-ddaa-4a5d-8174-826fa714e2ec",
   "metadata": {},
   "outputs": [
    {
     "name": "stdin",
     "output_type": "stream",
     "text": [
      "Enter a sentence:  hello gais, how's going everything??\n"
     ]
    },
    {
     "name": "stdout",
     "output_type": "stream",
     "text": [
      "Without punctuation: hello gais hows going everything\n"
     ]
    }
   ],
   "source": [
    "import string\n",
    "s = input(\"Enter a sentence: \")\n",
    "def remove_punctuation(text):\n",
    "    return ''.join(char for char in text if char not in string.punctuation)\n",
    "print(\"Without punctuation:\", remove_punctuation(s))"
   ]
  },
  {
   "cell_type": "markdown",
   "id": "2adf5630-8702-40ee-8550-c5a5b6cebade",
   "metadata": {},
   "source": [
    "28. Create a function that finds the GCD (greatest common\n",
    "divisor) of two numbers."
   ]
  },
  {
   "cell_type": "code",
   "execution_count": 206,
   "id": "878a29e0-d1e8-4fc1-9d3e-3c1adc3a4c0a",
   "metadata": {},
   "outputs": [
    {
     "name": "stdin",
     "output_type": "stream",
     "text": [
      "Enter first number:  36\n",
      "Enter second number:  60\n"
     ]
    },
    {
     "name": "stdout",
     "output_type": "stream",
     "text": [
      "GCD: 12\n"
     ]
    }
   ],
   "source": [
    "a = int(input(\"Enter first number: \"))\n",
    "b = int(input(\"Enter second number: \"))\n",
    "def find_gcd(a, b):\n",
    "    if b == 0:\n",
    "        return a\n",
    "    return find_gcd(b, a % b)\n",
    "print(\"GCD:\", find_gcd(a, b))"
   ]
  },
  {
   "cell_type": "markdown",
   "id": "c96ebe03-7677-4afc-b8b9-1dbff9856c81",
   "metadata": {},
   "source": [
    "29. Write a function that takes a list and returns only those\n",
    "elements that appear more than once.\n"
   ]
  },
  {
   "cell_type": "code",
   "execution_count": 208,
   "id": "0f5d7337-6076-4ccb-8163-ae01cc70a1f0",
   "metadata": {},
   "outputs": [
    {
     "name": "stdin",
     "output_type": "stream",
     "text": [
      "Enter list elements separated by space:  1 2 3 4 1 2 5 2 1\n"
     ]
    },
    {
     "name": "stdout",
     "output_type": "stream",
     "text": [
      "Duplicates: [1, 2]\n"
     ]
    }
   ],
   "source": [
    "lst = list(map(int, input(\"Enter list elements separated by space: \").split()))\n",
    "def find_duplicates(lst):\n",
    "    seen = set()\n",
    "    duplicates = set()\n",
    "    for item in lst:\n",
    "        if item in seen:\n",
    "            duplicates.add(item)\n",
    "        else:\n",
    "            seen.add(item)\n",
    "    return list(duplicates)\n",
    "print(\"Duplicates:\", find_duplicates(lst))"
   ]
  },
  {
   "cell_type": "markdown",
   "id": "8adf7621-f9fb-4364-ac48-4cb9c3e48510",
   "metadata": {},
   "source": [
    "30. Create a function to return the largest of three numbers."
   ]
  },
  {
   "cell_type": "code",
   "execution_count": 210,
   "id": "93d12f23-0217-425c-b3f4-7dfc2dfb14d1",
   "metadata": {},
   "outputs": [
    {
     "name": "stdin",
     "output_type": "stream",
     "text": [
      "Enter first number:  12\n",
      "Enter second number:  45\n",
      "Enter third number:  68\n"
     ]
    },
    {
     "name": "stdout",
     "output_type": "stream",
     "text": [
      "Largest: 68\n"
     ]
    }
   ],
   "source": [
    "a = int(input(\"Enter first number: \"))\n",
    "b = int(input(\"Enter second number: \"))\n",
    "c = int(input(\"Enter third number: \"))\n",
    "def find_largest(a, b, c):\n",
    "    return max(a, b, c)\n",
    "print(\"Largest:\", find_largest(a, b, c))"
   ]
  },
  {
   "cell_type": "markdown",
   "id": "05b7881b-bc3c-45bf-ad14-1d58c7ae5f30",
   "metadata": {},
   "source": [
    "🧾 Section C: String, List, Dictionary & Tuple Operations (Q31–Q40)"
   ]
  },
  {
   "cell_type": "markdown",
   "id": "36b72888-981d-41fe-b9af-12b60f31636f",
   "metadata": {},
   "source": [
    "31. Write a program to sort words in a sentence\n",
    "alphabetically.\n"
   ]
  },
  {
   "cell_type": "code",
   "execution_count": 223,
   "id": "cc6a8431-2a11-423b-a47a-05ef776e97ae",
   "metadata": {},
   "outputs": [
    {
     "name": "stdin",
     "output_type": "stream",
     "text": [
      "Enter a sentence:  now we are going to agra.\n"
     ]
    },
    {
     "name": "stdout",
     "output_type": "stream",
     "text": [
      "Sorted words: ['agra.', 'are', 'going', 'now', 'to', 'we']\n"
     ]
    }
   ],
   "source": [
    "sentence = input(\"Enter a sentence: \")\n",
    "words = sentence.split()\n",
    "words.sort()\n",
    "print(\"Sorted words:\", words)"
   ]
  },
  {
   "cell_type": "markdown",
   "id": "4cf2b597-b8b8-490f-ae95-d47b9ebc66a4",
   "metadata": {},
   "source": [
    "32. Concatenate two dictionaries and print the result.\n"
   ]
  },
  {
   "cell_type": "code",
   "execution_count": 225,
   "id": "2e68f08d-c6e1-40ab-b2c7-0c8b2c133466",
   "metadata": {},
   "outputs": [
    {
     "name": "stdin",
     "output_type": "stream",
     "text": [
      "Enter first dictionary:  {'a':1, 'b':2}\n",
      "Enter second dictionary:  {'c':3, 'd':4}\n"
     ]
    },
    {
     "name": "stdout",
     "output_type": "stream",
     "text": [
      "Merged dictionary: {'a': 1, 'b': 2, 'c': 3, 'd': 4}\n"
     ]
    }
   ],
   "source": [
    "dict1 = eval(input(\"Enter first dictionary: \"))\n",
    "dict2 = eval(input(\"Enter second dictionary: \"))\n",
    "dict1.update(dict2)\n",
    "print(\"Merged dictionary:\", dict1)"
   ]
  },
  {
   "cell_type": "markdown",
   "id": "98df324f-b587-419d-a052-47757bce5544",
   "metadata": {},
   "source": [
    "33. Count how many vowels are present in each word of a\n",
    "sentence.\n"
   ]
  },
  {
   "cell_type": "code",
   "execution_count": 227,
   "id": "914a2ad2-8c6c-4214-9e6c-e9277442dccd",
   "metadata": {},
   "outputs": [
    {
     "name": "stdin",
     "output_type": "stream",
     "text": [
      "Enter a sentence:  this apple is from kashmir\n"
     ]
    },
    {
     "name": "stdout",
     "output_type": "stream",
     "text": [
      "Vowel counts: {'this': 1, 'apple': 2, 'is': 1, 'from': 1, 'kashmir': 2}\n"
     ]
    }
   ],
   "source": [
    "sentence = input(\"Enter a sentence: \")\n",
    "vowels = \"aeiouAEIOU\"\n",
    "result = {}\n",
    "for word in sentence.split():\n",
    "    count = 0\n",
    "    for char in word:\n",
    "        if char in vowels:\n",
    "            count += 1\n",
    "    result[word] = count\n",
    "print(\"Vowel counts:\", result)"
   ]
  },
  {
   "cell_type": "markdown",
   "id": "dc7054f0-1b90-4d1d-b839-b2400cfd41d7",
   "metadata": {},
   "source": [
    "34. Accept a tuple and convert it into a list.\n"
   ]
  },
  {
   "cell_type": "code",
   "execution_count": 229,
   "id": "e07032d3-1b27-4474-8181-99e4978c53f2",
   "metadata": {},
   "outputs": [
    {
     "name": "stdin",
     "output_type": "stream",
     "text": [
      "Enter a tuple:  (1, 2, 3)\n"
     ]
    },
    {
     "name": "stdout",
     "output_type": "stream",
     "text": [
      "Converted list: [1, 2, 3]\n"
     ]
    }
   ],
   "source": [
    "tpl = eval(input(\"Enter a tuple: \"))\n",
    "lst = list(tpl)\n",
    "print(\"Converted list:\", lst)"
   ]
  },
  {
   "cell_type": "markdown",
   "id": "5a5053fd-f043-49be-b9eb-64b5d6f8ebd2",
   "metadata": {},
   "source": [
    "35. Remove all whitespace from a given string using a\n",
    "function.\n"
   ]
  },
  {
   "cell_type": "code",
   "execution_count": 231,
   "id": "9da2c061-00b5-46be-9a17-c91143e5a3b6",
   "metadata": {},
   "outputs": [
    {
     "name": "stdin",
     "output_type": "stream",
     "text": [
      "Enter a string:  hello guys he is busy, sorry.\n"
     ]
    },
    {
     "name": "stdout",
     "output_type": "stream",
     "text": [
      "Without whitespace: helloguysheisbusy,sorry.\n"
     ]
    }
   ],
   "source": [
    "s = input(\"Enter a string: \")\n",
    "s = s.replace(\" \", \"\")\n",
    "print(\"Without whitespace:\", s)"
   ]
  },
  {
   "cell_type": "markdown",
   "id": "707b7a31-47e0-4497-aebe-f09836000825",
   "metadata": {},
   "source": [
    "36. Merge two lists into a dictionary using one as keys and the\n",
    "other as values.\n"
   ]
  },
  {
   "cell_type": "code",
   "execution_count": 235,
   "id": "db0c2ef6-90eb-4038-a55c-e465f3a52609",
   "metadata": {},
   "outputs": [
    {
     "name": "stdin",
     "output_type": "stream",
     "text": [
      "Enter keys separated by space:  Ram Shyam Mohit Rahul\n",
      "Enter values separated by space:  42 49 50 12\n"
     ]
    },
    {
     "name": "stdout",
     "output_type": "stream",
     "text": [
      "Merged dictionary: {'Ram': '42', 'Shyam': '49', 'Mohit': '50', 'Rahul': '12'}\n"
     ]
    }
   ],
   "source": [
    "keys = input(\"Enter keys separated by space: \").split()\n",
    "values = input(\"Enter values separated by space: \").split()\n",
    "d = dict(zip(keys, values))\n",
    "print(\"Merged dictionary:\", d)"
   ]
  },
  {
   "cell_type": "markdown",
   "id": "8b73d819-36c2-4bd7-bd8b-d7e840eb97a7",
   "metadata": {},
   "source": [
    "37. Write a program to get the key with the maximum value in\n",
    "a dictionary.\n"
   ]
  },
  {
   "cell_type": "code",
   "execution_count": 237,
   "id": "fbb10979-5149-4bf2-8f33-373f3e4fafe7",
   "metadata": {},
   "outputs": [
    {
     "name": "stdin",
     "output_type": "stream",
     "text": [
      "Enter a dictionary:  {'a': 10, 'b': 50, 'c': 30}\n"
     ]
    },
    {
     "name": "stdout",
     "output_type": "stream",
     "text": [
      "Key with max value: b\n"
     ]
    }
   ],
   "source": [
    "d = eval(input(\"Enter a dictionary: \"))\n",
    "max_key = max(d, key=d.get)\n",
    "print(\"Key with max value:\", max_key)"
   ]
  },
  {
   "cell_type": "markdown",
   "id": "24cedde8-5b92-4443-be34-9fb4ec8bd38a",
   "metadata": {},
   "source": [
    "38. Accept a string and print a dictionary with word\n",
    "frequencies."
   ]
  },
  {
   "cell_type": "code",
   "execution_count": 239,
   "id": "e5b6fb42-5e09-4be7-886d-736fb7fa423f",
   "metadata": {},
   "outputs": [
    {
     "name": "stdin",
     "output_type": "stream",
     "text": [
      "Enter a sentence:  Rahul is failure\n"
     ]
    },
    {
     "name": "stdout",
     "output_type": "stream",
     "text": [
      "Word frequencies: {'Rahul': 1, 'is': 1, 'failure': 1}\n"
     ]
    }
   ],
   "source": [
    "sentence = input(\"Enter a sentence: \")\n",
    "words = sentence.split()\n",
    "freq = {}\n",
    "for word in words:\n",
    "    freq[word] = freq.get(word, 0) + 1\n",
    "print(\"Word frequencies:\", freq)"
   ]
  },
  {
   "cell_type": "markdown",
   "id": "2a49e631-efe4-4bc6-afe8-42b2d47d430b",
   "metadata": {},
   "source": [
    "39. Write a program to check if a key exists in a dictionary."
   ]
  },
  {
   "cell_type": "code",
   "execution_count": 241,
   "id": "9a667066-17d8-4ed9-95ed-b3bc628d066b",
   "metadata": {},
   "outputs": [
    {
     "name": "stdin",
     "output_type": "stream",
     "text": [
      "Enter a dictionary:  {'x': 10, 'y': 20}\n",
      "Enter key to check:  y\n"
     ]
    },
    {
     "name": "stdout",
     "output_type": "stream",
     "text": [
      "Key exists\n"
     ]
    }
   ],
   "source": [
    "d = eval(input(\"Enter a dictionary: \"))\n",
    "k = input(\"Enter key to check: \")\n",
    "if k in d:\n",
    "    print(\"Key exists\")\n",
    "else:\n",
    "    print(\"Key does not exist\")\n"
   ]
  },
  {
   "cell_type": "markdown",
   "id": "29db9df9-50ab-40e3-bbbd-b15d76fb7e63",
   "metadata": {},
   "source": [
    "40. Write a program to replace all the vowels in a string with\n",
    "'*'."
   ]
  },
  {
   "cell_type": "code",
   "execution_count": 243,
   "id": "b5930790-b156-4134-9e80-50022c597841",
   "metadata": {},
   "outputs": [
    {
     "name": "stdin",
     "output_type": "stream",
     "text": [
      "Enter a string:  Mohit is topper\n"
     ]
    },
    {
     "name": "stdout",
     "output_type": "stream",
     "text": [
      "Replaced string: M*h*t *s t*pp*r\n"
     ]
    }
   ],
   "source": [
    "s = input(\"Enter a string: \")\n",
    "vowels = \"aeiouAEIOU\"\n",
    "result = \"\"\n",
    "for ch in s:\n",
    "    if ch in vowels:\n",
    "        result += \"*\"\n",
    "    else:\n",
    "        result += ch\n",
    "print(\"Replaced string:\", result)"
   ]
  },
  {
   "cell_type": "markdown",
   "id": "fd5ee6d0-ffa7-49cf-bc84-8246db69bb06",
   "metadata": {},
   "source": [
    "📂 Section D: File Handling (Q41–Q45)"
   ]
  },
  {
   "cell_type": "markdown",
   "id": "86df4a9e-e201-4634-80a8-ba09b03f3b1c",
   "metadata": {},
   "source": [
    "41. Write a Python program to read the contents of a file and\n",
    "display it."
   ]
  },
  {
   "cell_type": "code",
   "execution_count": 249,
   "id": "936bf41f-3f5a-4d16-9ab8-32a561871c22",
   "metadata": {},
   "outputs": [
    {
     "name": "stdin",
     "output_type": "stream",
     "text": [
      "Enter filename to read:  test.txt\n"
     ]
    },
    {
     "name": "stdout",
     "output_type": "stream",
     "text": [
      "File content given below:\n",
      " File content:\n",
      "This is a test file.\n",
      "It has multiple lines.\n",
      "My name is Praveen Bhagour i ahve created this txt file for testing.\n"
     ]
    }
   ],
   "source": [
    "filename = input(\"Enter filename to read: \")\n",
    "f = open(filename, \"r\")\n",
    "content = f.read()\n",
    "print(\"File content given below:\\n\", content)\n",
    "f.close()"
   ]
  },
  {
   "cell_type": "markdown",
   "id": "92be3302-6a9f-4b9b-a8cd-120e60865abb",
   "metadata": {},
   "source": [
    "42. Count the number of words in a file.\n"
   ]
  },
  {
   "cell_type": "code",
   "execution_count": 251,
   "id": "820195ab-3bee-4816-9566-bd01af37fc95",
   "metadata": {},
   "outputs": [
    {
     "name": "stdin",
     "output_type": "stream",
     "text": [
      "Enter filename:  test.txt\n"
     ]
    },
    {
     "name": "stdout",
     "output_type": "stream",
     "text": [
      "Number of words: 24\n"
     ]
    }
   ],
   "source": [
    "filename = input(\"Enter filename: \")\n",
    "f = open(filename, \"r\")\n",
    "text = f.read()\n",
    "words = text.split()\n",
    "print(\"Number of words:\", len(words))\n",
    "f.close()"
   ]
  },
  {
   "cell_type": "markdown",
   "id": "a0ccd063-aaa9-4ef5-a4d8-6af015240ff7",
   "metadata": {},
   "source": [
    "43. Copy contents of one file to another."
   ]
  },
  {
   "cell_type": "code",
   "execution_count": 253,
   "id": "86d6f367-90b0-41a0-9104-ad8d245f98e7",
   "metadata": {},
   "outputs": [
    {
     "name": "stdin",
     "output_type": "stream",
     "text": [
      "Enter source filename:  test.txt\n",
      "Enter target filename:  copied_file.txt\n"
     ]
    },
    {
     "name": "stdout",
     "output_type": "stream",
     "text": [
      "File copied successfully.\n"
     ]
    }
   ],
   "source": [
    "source = input(\"Enter source filename: \")\n",
    "target = input(\"Enter target filename: \")\n",
    "f1 = open(source, \"r\")\n",
    "f2 = open(target, \"w\")\n",
    "content = f1.read()\n",
    "f2.write(content)\n",
    "print(\"File copied successfully.\")\n",
    "f1.close()\n",
    "f2.close()"
   ]
  },
  {
   "cell_type": "markdown",
   "id": "aa3078c2-7d45-4d8d-b635-e63f4899c692",
   "metadata": {},
   "source": [
    "44. Print only the lines that have more than 50 characters\n",
    "from a text file."
   ]
  },
  {
   "cell_type": "code",
   "execution_count": 257,
   "id": "a30889c8-2a65-42c4-b89f-7e5e4e7c07ca",
   "metadata": {},
   "outputs": [
    {
     "name": "stdin",
     "output_type": "stream",
     "text": [
      "Enter filename:  copied_file.txt\n"
     ]
    },
    {
     "name": "stdout",
     "output_type": "stream",
     "text": [
      "Lines longer than 50 characters:\n",
      "My name is Praveen Bhagour i ahve created this txt file for testing.\n"
     ]
    }
   ],
   "source": [
    "filename = input(\"Enter filename: \")\n",
    "f = open(filename, \"r\")\n",
    "\n",
    "print(\"Lines longer than 50 characters:\")\n",
    "for line in f:\n",
    "    if len(line.strip()) > 50:\n",
    "        print(line.strip())\n",
    "f.close()"
   ]
  },
  {
   "cell_type": "markdown",
   "id": "79725a43-7854-49b9-9f4d-010fb0661309",
   "metadata": {},
   "source": [
    "45. Write a program to write a list of strings into a text file (one\n",
    "string per line)."
   ]
  },
  {
   "cell_type": "code",
   "execution_count": 259,
   "id": "bd65c396-2a97-4304-ba6a-262a3381e04a",
   "metadata": {},
   "outputs": [
    {
     "name": "stdin",
     "output_type": "stream",
     "text": [
      "Enter filename to write to:  test.txt\n",
      "Enter number of lines:  2\n",
      "Enter line 1:  hey i know there are many mistakes in my previous lines.\n",
      "Enter line 2:  but this is only for testing and nothing. Thankyou Everyone for your time!! \n"
     ]
    },
    {
     "name": "stdout",
     "output_type": "stream",
     "text": [
      "Lines written successfully.\n"
     ]
    }
   ],
   "source": [
    "filename = input(\"Enter filename to write to: \")\n",
    "n = int(input(\"Enter number of lines: \"))\n",
    "\n",
    "f = open(filename, \"w\")\n",
    "for i in range(n):\n",
    "    line = input(f\"Enter line {i+1}: \")\n",
    "    f.write(line + \"\\n\")\n",
    "f.close()\n",
    "print(\"Lines written successfully.\")"
   ]
  },
  {
   "cell_type": "markdown",
   "id": "49d7643c-c938-4371-99e5-81fcbdc1008a",
   "metadata": {},
   "source": [
    "⚠️ Section E: Exception Handling (Q46–Q50)"
   ]
  },
  {
   "cell_type": "markdown",
   "id": "24aec7a8-8d77-45ef-8f3e-f7e053d1cbd5",
   "metadata": {},
   "source": [
    "46. Write a program to take two numbers as input and handle\n",
    "division by zero."
   ]
  },
  {
   "cell_type": "code",
   "execution_count": 268,
   "id": "154f9ec2-1f40-4500-8713-00bd7cf884c4",
   "metadata": {},
   "outputs": [
    {
     "name": "stdin",
     "output_type": "stream",
     "text": [
      "Enter numerator:  10\n",
      "Enter denominator:  0\n"
     ]
    },
    {
     "name": "stdout",
     "output_type": "stream",
     "text": [
      "Error: Cannot divide by zero.\n"
     ]
    }
   ],
   "source": [
    "a = int(input(\"Enter numerator: \"))\n",
    "b = int(input(\"Enter denominator: \"))\n",
    "\n",
    "try:\n",
    "    result = a / b\n",
    "    print(\"Result:\", result)\n",
    "except ZeroDivisionError:\n",
    "    print(\"Error: Cannot divide by zero.\")"
   ]
  },
  {
   "cell_type": "markdown",
   "id": "5caeb972-3ef9-4d46-bf00-991b3ba80181",
   "metadata": {},
   "source": [
    "47. Handle invalid user input (e.g., entering a string when a\n",
    "number is expected)."
   ]
  },
  {
   "cell_type": "code",
   "execution_count": 270,
   "id": "70593756-bb1e-473e-acb5-fafba0b4ae5f",
   "metadata": {},
   "outputs": [
    {
     "name": "stdin",
     "output_type": "stream",
     "text": [
      "Enter a number:  abcd\n"
     ]
    },
    {
     "name": "stdout",
     "output_type": "stream",
     "text": [
      "Invalid input! Please enter a valid number.\n"
     ]
    }
   ],
   "source": [
    "try:\n",
    "    num = int(input(\"Enter a number: \"))\n",
    "    print(\"You entered:\", num)\n",
    "except ValueError:\n",
    "    print(\"Invalid input! Please enter a valid number.\")"
   ]
  },
  {
   "cell_type": "markdown",
   "id": "84ba289c-a92b-4579-9f96-fdcfb55cbd21",
   "metadata": {},
   "source": [
    "48. Try to open a file that doesn’t exist and handle the\n",
    "FileNotFoundError."
   ]
  },
  {
   "cell_type": "code",
   "execution_count": 274,
   "id": "b1b893e0-83e2-4fc3-b18c-f0dd8b6c3e54",
   "metadata": {},
   "outputs": [
    {
     "name": "stdin",
     "output_type": "stream",
     "text": [
      "Enter filename:  ram.txt\n"
     ]
    },
    {
     "name": "stdout",
     "output_type": "stream",
     "text": [
      "Error: File not found.\n"
     ]
    }
   ],
   "source": [
    "filename = input(\"Enter filename: \")\n",
    "try:\n",
    "    f = open(filename, \"r\")\n",
    "    print(f.read())\n",
    "    f.close()\n",
    "except FileNotFoundError:\n",
    "    print(\"Error: File not found.\")"
   ]
  },
  {
   "cell_type": "markdown",
   "id": "6b281b25-9140-4526-ad8a-e29fb012725a",
   "metadata": {},
   "source": [
    "49. Create a list of numbers and try accessing an invalid\n",
    "index. Handle the exception gracefully."
   ]
  },
  {
   "cell_type": "code",
   "execution_count": 276,
   "id": "f9033cb1-3827-42bd-8c4e-e119cdbd57e1",
   "metadata": {},
   "outputs": [
    {
     "name": "stdin",
     "output_type": "stream",
     "text": [
      "Enter index to access:  7\n"
     ]
    },
    {
     "name": "stdout",
     "output_type": "stream",
     "text": [
      "Error: Index out of range.\n"
     ]
    }
   ],
   "source": [
    "numbers = [10, 20, 30, 40, 50]\n",
    "\n",
    "try:\n",
    "    index = int(input(\"Enter index to access: \"))\n",
    "    print(\"Value:\", numbers[index])\n",
    "except IndexError:\n",
    "    print(\"Error: Index out of range.\")"
   ]
  },
  {
   "cell_type": "markdown",
   "id": "84bb7969-e9fa-4bcd-8754-85d0b345f81c",
   "metadata": {},
   "source": [
    "50. Use a try-except-finally block to demonstrate the\n",
    "execution of the finally clause."
   ]
  },
  {
   "cell_type": "code",
   "execution_count": 278,
   "id": "a5113d76-292d-4af8-ac50-9e3b3b7d9972",
   "metadata": {},
   "outputs": [
    {
     "name": "stdin",
     "output_type": "stream",
     "text": [
      "Enter a number:  5\n",
      "Enter another number:  0\n"
     ]
    },
    {
     "name": "stdout",
     "output_type": "stream",
     "text": [
      "Error: Division by zero.\n",
      "This will always execute (finally block).\n"
     ]
    }
   ],
   "source": [
    "try:\n",
    "    x = int(input(\"Enter a number: \"))\n",
    "    y = int(input(\"Enter another number: \"))\n",
    "    print(\"Result:\", x / y)\n",
    "except ZeroDivisionError:\n",
    "    print(\"Error: Division by zero.\")\n",
    "finally:\n",
    "    print(\"This will always execute (finally block).\")"
   ]
  }
 ],
 "metadata": {
  "kernelspec": {
   "display_name": "Python 3 (ipykernel)",
   "language": "python",
   "name": "python3"
  },
  "language_info": {
   "codemirror_mode": {
    "name": "ipython",
    "version": 3
   },
   "file_extension": ".py",
   "mimetype": "text/x-python",
   "name": "python",
   "nbconvert_exporter": "python",
   "pygments_lexer": "ipython3",
   "version": "3.12.7"
  }
 },
 "nbformat": 4,
 "nbformat_minor": 5
}
