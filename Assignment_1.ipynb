{
 "cells": [
  {
   "cell_type": "code",
   "execution_count": null,
   "id": "b4494378-abe5-49a2-aa12-cff9c3c16eef",
   "metadata": {},
   "outputs": [],
   "source": []
  }
 ],
 "metadata": {
  "kernelspec": {
   "display_name": "",
   "name": ""
  },
  "language_info": {
   "name": ""
  }
 },
 "nbformat": 4,
 "nbformat_minor": 5
}
